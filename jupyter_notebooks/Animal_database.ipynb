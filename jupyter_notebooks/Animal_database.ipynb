{
 "cells": [
  {
   "cell_type": "markdown",
   "metadata": {},
   "source": [
    "# Clean dataset of detailed mammal information"
   ]
  },
  {
   "cell_type": "code",
   "execution_count": 1,
   "metadata": {},
   "outputs": [],
   "source": [
    "import pandas as pd\n",
    "import numpy as np"
   ]
  },
  {
   "cell_type": "code",
   "execution_count": 2,
   "metadata": {},
   "outputs": [],
   "source": [
    "Animal_df = pd.read_csv(\"..\\csv_files\\msw3_all.csv\", engine = \"python\")"
   ]
  },
  {
   "cell_type": "code",
   "execution_count": 3,
   "metadata": {
    "scrolled": true
   },
   "outputs": [
    {
     "data": {
      "text/html": [
       "<div>\n",
       "<style scoped>\n",
       "    .dataframe tbody tr th:only-of-type {\n",
       "        vertical-align: middle;\n",
       "    }\n",
       "\n",
       "    .dataframe tbody tr th {\n",
       "        vertical-align: top;\n",
       "    }\n",
       "\n",
       "    .dataframe thead th {\n",
       "        text-align: right;\n",
       "    }\n",
       "</style>\n",
       "<table border=\"1\" class=\"dataframe\">\n",
       "  <thead>\n",
       "    <tr style=\"text-align: right;\">\n",
       "      <th></th>\n",
       "      <th>ID</th>\n",
       "      <th>Order</th>\n",
       "      <th>Suborder</th>\n",
       "      <th>Infraorder</th>\n",
       "      <th>Superfamily</th>\n",
       "      <th>Family</th>\n",
       "      <th>Subfamily</th>\n",
       "      <th>Tribe</th>\n",
       "      <th>Genus</th>\n",
       "      <th>Subgenus</th>\n",
       "      <th>...</th>\n",
       "      <th>TypeSpecies</th>\n",
       "      <th>CommonName</th>\n",
       "      <th>TypeLocality</th>\n",
       "      <th>Distribution</th>\n",
       "      <th>Status</th>\n",
       "      <th>Synonyms</th>\n",
       "      <th>Comments</th>\n",
       "      <th>File</th>\n",
       "      <th>SortOrder</th>\n",
       "      <th>DisplayOrder</th>\n",
       "    </tr>\n",
       "  </thead>\n",
       "  <tbody>\n",
       "    <tr>\n",
       "      <th>0</th>\n",
       "      <td>10300001</td>\n",
       "      <td>MONOTREMATA</td>\n",
       "      <td>NaN</td>\n",
       "      <td>NaN</td>\n",
       "      <td>NaN</td>\n",
       "      <td>NaN</td>\n",
       "      <td>NaN</td>\n",
       "      <td>NaN</td>\n",
       "      <td>NaN</td>\n",
       "      <td>NaN</td>\n",
       "      <td>...</td>\n",
       "      <td>NaN</td>\n",
       "      <td>NaN</td>\n",
       "      <td>NaN</td>\n",
       "      <td>NaN</td>\n",
       "      <td>NaN</td>\n",
       "      <td>NaN</td>\n",
       "      <td>Reviewed by Griffiths (1978). The order is the...</td>\n",
       "      <td>3</td>\n",
       "      <td>03-00001</td>\n",
       "      <td>03-0001</td>\n",
       "    </tr>\n",
       "    <tr>\n",
       "      <th>1</th>\n",
       "      <td>10300002</td>\n",
       "      <td>MONOTREMATA</td>\n",
       "      <td>NaN</td>\n",
       "      <td>NaN</td>\n",
       "      <td>NaN</td>\n",
       "      <td>Tachyglossidae</td>\n",
       "      <td>NaN</td>\n",
       "      <td>NaN</td>\n",
       "      <td>NaN</td>\n",
       "      <td>NaN</td>\n",
       "      <td>...</td>\n",
       "      <td>NaN</td>\n",
       "      <td>NaN</td>\n",
       "      <td>NaN</td>\n",
       "      <td>NaN</td>\n",
       "      <td>NaN</td>\n",
       "      <td>NaN</td>\n",
       "      <td>NaN</td>\n",
       "      <td>3</td>\n",
       "      <td>03-00002</td>\n",
       "      <td>03-0001-0000-0000-0000-0002</td>\n",
       "    </tr>\n",
       "    <tr>\n",
       "      <th>2</th>\n",
       "      <td>10300003</td>\n",
       "      <td>MONOTREMATA</td>\n",
       "      <td>NaN</td>\n",
       "      <td>NaN</td>\n",
       "      <td>NaN</td>\n",
       "      <td>Tachyglossidae</td>\n",
       "      <td>NaN</td>\n",
       "      <td>NaN</td>\n",
       "      <td>Tachyglossus</td>\n",
       "      <td>NaN</td>\n",
       "      <td>...</td>\n",
       "      <td>&lt;i&gt;Echidna novaehollandiae&lt;/i&gt; Lacépède, 1799 ...</td>\n",
       "      <td>NaN</td>\n",
       "      <td>NaN</td>\n",
       "      <td>NaN</td>\n",
       "      <td>NaN</td>\n",
       "      <td>&lt;i&gt;Acanthonotus&lt;/i&gt;  Goldfuss, 1809; &lt;i&gt;Echidn...</td>\n",
       "      <td>NaN</td>\n",
       "      <td>3</td>\n",
       "      <td>03-00003</td>\n",
       "      <td>03-0001-0000-0000-0000-0002-0000-0000-0003</td>\n",
       "    </tr>\n",
       "    <tr>\n",
       "      <th>3</th>\n",
       "      <td>10300004</td>\n",
       "      <td>MONOTREMATA</td>\n",
       "      <td>NaN</td>\n",
       "      <td>NaN</td>\n",
       "      <td>NaN</td>\n",
       "      <td>Tachyglossidae</td>\n",
       "      <td>NaN</td>\n",
       "      <td>NaN</td>\n",
       "      <td>Tachyglossus</td>\n",
       "      <td>NaN</td>\n",
       "      <td>...</td>\n",
       "      <td>NaN</td>\n",
       "      <td>Short-beaked Echidna</td>\n",
       "      <td>Australia, New South Wales, New Holland (= Syd...</td>\n",
       "      <td>S and E New Guinea; Australia, including Kanga...</td>\n",
       "      <td>IUCN ­– Lower Risk (nt) as &lt;i&gt;T. a.&lt;/i&gt; &lt;i&gt;mul...</td>\n",
       "      <td>&lt;i&gt;australiensis&lt;/i&gt; (Lesson, 1827);&lt;i&gt; austra...</td>\n",
       "      <td>Includes &lt;i&gt;lawesii&lt;/i&gt; and &lt;i&gt;setosus, &lt;/i&gt;se...</td>\n",
       "      <td>3</td>\n",
       "      <td>03-00004</td>\n",
       "      <td>03-0001-0000-0000-0000-0002-0000-0000-0003-000...</td>\n",
       "    </tr>\n",
       "    <tr>\n",
       "      <th>4</th>\n",
       "      <td>10300005</td>\n",
       "      <td>MONOTREMATA</td>\n",
       "      <td>NaN</td>\n",
       "      <td>NaN</td>\n",
       "      <td>NaN</td>\n",
       "      <td>Tachyglossidae</td>\n",
       "      <td>NaN</td>\n",
       "      <td>NaN</td>\n",
       "      <td>Tachyglossus</td>\n",
       "      <td>NaN</td>\n",
       "      <td>...</td>\n",
       "      <td>NaN</td>\n",
       "      <td>NaN</td>\n",
       "      <td>Australia, New South Wales, New Holland (= Syd...</td>\n",
       "      <td>NaN</td>\n",
       "      <td>NaN</td>\n",
       "      <td>NaN</td>\n",
       "      <td>NaN</td>\n",
       "      <td>3</td>\n",
       "      <td>03-00005</td>\n",
       "      <td>03-0001-0000-0000-0000-0002-0000-0000-0003-000...</td>\n",
       "    </tr>\n",
       "  </tbody>\n",
       "</table>\n",
       "<p>5 rows × 34 columns</p>\n",
       "</div>"
      ],
      "text/plain": [
       "         ID        Order Suborder Infraorder Superfamily          Family  \\\n",
       "0  10300001  MONOTREMATA      NaN        NaN         NaN             NaN   \n",
       "1  10300002  MONOTREMATA      NaN        NaN         NaN  Tachyglossidae   \n",
       "2  10300003  MONOTREMATA      NaN        NaN         NaN  Tachyglossidae   \n",
       "3  10300004  MONOTREMATA      NaN        NaN         NaN  Tachyglossidae   \n",
       "4  10300005  MONOTREMATA      NaN        NaN         NaN  Tachyglossidae   \n",
       "\n",
       "  Subfamily Tribe         Genus Subgenus  ...  \\\n",
       "0       NaN   NaN           NaN      NaN  ...   \n",
       "1       NaN   NaN           NaN      NaN  ...   \n",
       "2       NaN   NaN  Tachyglossus      NaN  ...   \n",
       "3       NaN   NaN  Tachyglossus      NaN  ...   \n",
       "4       NaN   NaN  Tachyglossus      NaN  ...   \n",
       "\n",
       "                                         TypeSpecies            CommonName  \\\n",
       "0                                                NaN                   NaN   \n",
       "1                                                NaN                   NaN   \n",
       "2  <i>Echidna novaehollandiae</i> Lacépède, 1799 ...                   NaN   \n",
       "3                                                NaN  Short-beaked Echidna   \n",
       "4                                                NaN                   NaN   \n",
       "\n",
       "                                        TypeLocality  \\\n",
       "0                                                NaN   \n",
       "1                                                NaN   \n",
       "2                                                NaN   \n",
       "3  Australia, New South Wales, New Holland (= Syd...   \n",
       "4  Australia, New South Wales, New Holland (= Syd...   \n",
       "\n",
       "                                        Distribution  \\\n",
       "0                                                NaN   \n",
       "1                                                NaN   \n",
       "2                                                NaN   \n",
       "3  S and E New Guinea; Australia, including Kanga...   \n",
       "4                                                NaN   \n",
       "\n",
       "                                              Status  \\\n",
       "0                                                NaN   \n",
       "1                                                NaN   \n",
       "2                                                NaN   \n",
       "3  IUCN ­– Lower Risk (nt) as <i>T. a.</i> <i>mul...   \n",
       "4                                                NaN   \n",
       "\n",
       "                                            Synonyms  \\\n",
       "0                                                NaN   \n",
       "1                                                NaN   \n",
       "2  <i>Acanthonotus</i>  Goldfuss, 1809; <i>Echidn...   \n",
       "3  <i>australiensis</i> (Lesson, 1827);<i> austra...   \n",
       "4                                                NaN   \n",
       "\n",
       "                                            Comments File  SortOrder  \\\n",
       "0  Reviewed by Griffiths (1978). The order is the...    3   03-00001   \n",
       "1                                                NaN    3   03-00002   \n",
       "2                                                NaN    3   03-00003   \n",
       "3  Includes <i>lawesii</i> and <i>setosus, </i>se...    3   03-00004   \n",
       "4                                                NaN    3   03-00005   \n",
       "\n",
       "                                        DisplayOrder  \n",
       "0                                            03-0001  \n",
       "1                        03-0001-0000-0000-0000-0002  \n",
       "2         03-0001-0000-0000-0000-0002-0000-0000-0003  \n",
       "3  03-0001-0000-0000-0000-0002-0000-0000-0003-000...  \n",
       "4  03-0001-0000-0000-0000-0002-0000-0000-0003-000...  \n",
       "\n",
       "[5 rows x 34 columns]"
      ]
     },
     "execution_count": 3,
     "metadata": {},
     "output_type": "execute_result"
    }
   ],
   "source": [
    "Animal_df.head()"
   ]
  },
  {
   "cell_type": "code",
   "execution_count": 4,
   "metadata": {},
   "outputs": [
    {
     "data": {
      "text/plain": [
       "(13582, 34)"
      ]
     },
     "execution_count": 4,
     "metadata": {},
     "output_type": "execute_result"
    }
   ],
   "source": [
    "Animal_df.shape"
   ]
  },
  {
   "cell_type": "code",
   "execution_count": 5,
   "metadata": {},
   "outputs": [
    {
     "data": {
      "text/html": [
       "<div>\n",
       "<style scoped>\n",
       "    .dataframe tbody tr th:only-of-type {\n",
       "        vertical-align: middle;\n",
       "    }\n",
       "\n",
       "    .dataframe tbody tr th {\n",
       "        vertical-align: top;\n",
       "    }\n",
       "\n",
       "    .dataframe thead th {\n",
       "        text-align: right;\n",
       "    }\n",
       "</style>\n",
       "<table border=\"1\" class=\"dataframe\">\n",
       "  <thead>\n",
       "    <tr style=\"text-align: right;\">\n",
       "      <th></th>\n",
       "      <th>TaxonLevel</th>\n",
       "      <th>Family</th>\n",
       "      <th>CommonName</th>\n",
       "    </tr>\n",
       "  </thead>\n",
       "  <tbody>\n",
       "    <tr>\n",
       "      <th>0</th>\n",
       "      <td>ORDER</td>\n",
       "      <td>NaN</td>\n",
       "      <td>NaN</td>\n",
       "    </tr>\n",
       "    <tr>\n",
       "      <th>1</th>\n",
       "      <td>FAMILY</td>\n",
       "      <td>Tachyglossidae</td>\n",
       "      <td>NaN</td>\n",
       "    </tr>\n",
       "    <tr>\n",
       "      <th>2</th>\n",
       "      <td>GENUS</td>\n",
       "      <td>Tachyglossidae</td>\n",
       "      <td>NaN</td>\n",
       "    </tr>\n",
       "    <tr>\n",
       "      <th>3</th>\n",
       "      <td>SPECIES</td>\n",
       "      <td>Tachyglossidae</td>\n",
       "      <td>Short-beaked Echidna</td>\n",
       "    </tr>\n",
       "    <tr>\n",
       "      <th>4</th>\n",
       "      <td>SUBSPECIES</td>\n",
       "      <td>Tachyglossidae</td>\n",
       "      <td>NaN</td>\n",
       "    </tr>\n",
       "  </tbody>\n",
       "</table>\n",
       "</div>"
      ],
      "text/plain": [
       "   TaxonLevel          Family            CommonName\n",
       "0       ORDER             NaN                   NaN\n",
       "1      FAMILY  Tachyglossidae                   NaN\n",
       "2       GENUS  Tachyglossidae                   NaN\n",
       "3     SPECIES  Tachyglossidae  Short-beaked Echidna\n",
       "4  SUBSPECIES  Tachyglossidae                   NaN"
      ]
     },
     "execution_count": 5,
     "metadata": {},
     "output_type": "execute_result"
    }
   ],
   "source": [
    "Animal_df[[\"TaxonLevel\",\"Family\",\"CommonName\"]].head()"
   ]
  },
  {
   "cell_type": "code",
   "execution_count": 6,
   "metadata": {},
   "outputs": [
    {
     "data": {
      "text/html": [
       "<div>\n",
       "<style scoped>\n",
       "    .dataframe tbody tr th:only-of-type {\n",
       "        vertical-align: middle;\n",
       "    }\n",
       "\n",
       "    .dataframe tbody tr th {\n",
       "        vertical-align: top;\n",
       "    }\n",
       "\n",
       "    .dataframe thead th {\n",
       "        text-align: right;\n",
       "    }\n",
       "</style>\n",
       "<table border=\"1\" class=\"dataframe\">\n",
       "  <thead>\n",
       "    <tr style=\"text-align: right;\">\n",
       "      <th></th>\n",
       "      <th>ID</th>\n",
       "      <th>ActualDate</th>\n",
       "      <th>File</th>\n",
       "    </tr>\n",
       "  </thead>\n",
       "  <tbody>\n",
       "    <tr>\n",
       "      <th>count</th>\n",
       "      <td>1.358200e+04</td>\n",
       "      <td>263.000000</td>\n",
       "      <td>13582.000000</td>\n",
       "    </tr>\n",
       "    <tr>\n",
       "      <th>mean</th>\n",
       "      <td>1.318016e+07</td>\n",
       "      <td>1862.079848</td>\n",
       "      <td>31.794655</td>\n",
       "    </tr>\n",
       "    <tr>\n",
       "      <th>std</th>\n",
       "      <td>9.107607e+05</td>\n",
       "      <td>32.809497</td>\n",
       "      <td>9.105451</td>\n",
       "    </tr>\n",
       "    <tr>\n",
       "      <th>min</th>\n",
       "      <td>1.030000e+07</td>\n",
       "      <td>1780.000000</td>\n",
       "      <td>3.000000</td>\n",
       "    </tr>\n",
       "    <tr>\n",
       "      <th>25%</th>\n",
       "      <td>1.270012e+07</td>\n",
       "      <td>1838.000000</td>\n",
       "      <td>27.000000</td>\n",
       "    </tr>\n",
       "    <tr>\n",
       "      <th>50%</th>\n",
       "      <td>1.350010e+07</td>\n",
       "      <td>1858.000000</td>\n",
       "      <td>35.000000</td>\n",
       "    </tr>\n",
       "    <tr>\n",
       "      <th>75%</th>\n",
       "      <td>1.380229e+07</td>\n",
       "      <td>1878.000000</td>\n",
       "      <td>38.000000</td>\n",
       "    </tr>\n",
       "    <tr>\n",
       "      <th>max</th>\n",
       "      <td>1.430018e+07</td>\n",
       "      <td>2002.000000</td>\n",
       "      <td>43.000000</td>\n",
       "    </tr>\n",
       "  </tbody>\n",
       "</table>\n",
       "</div>"
      ],
      "text/plain": [
       "                 ID   ActualDate          File\n",
       "count  1.358200e+04   263.000000  13582.000000\n",
       "mean   1.318016e+07  1862.079848     31.794655\n",
       "std    9.107607e+05    32.809497      9.105451\n",
       "min    1.030000e+07  1780.000000      3.000000\n",
       "25%    1.270012e+07  1838.000000     27.000000\n",
       "50%    1.350010e+07  1858.000000     35.000000\n",
       "75%    1.380229e+07  1878.000000     38.000000\n",
       "max    1.430018e+07  2002.000000     43.000000"
      ]
     },
     "execution_count": 6,
     "metadata": {},
     "output_type": "execute_result"
    }
   ],
   "source": [
    "Animal_df.describe()"
   ]
  },
  {
   "cell_type": "code",
   "execution_count": 7,
   "metadata": {},
   "outputs": [
    {
     "data": {
      "text/plain": [
       "Index(['ID', 'Order', 'Suborder', 'Infraorder', 'Superfamily', 'Family',\n",
       "       'Subfamily', 'Tribe', 'Genus', 'Subgenus', 'Species', 'Subspecies',\n",
       "       'TaxonLevel', 'Extinct?', 'OriginalName', 'ValidName', 'Author', 'Date',\n",
       "       'ActualDate', 'CitationName', 'CitationVolume', 'CitationIssue',\n",
       "       'CitationPages', 'CitationType', 'TypeSpecies', 'CommonName',\n",
       "       'TypeLocality', 'Distribution', 'Status', 'Synonyms', 'Comments',\n",
       "       'File', 'SortOrder', 'DisplayOrder'],\n",
       "      dtype='object')"
      ]
     },
     "execution_count": 7,
     "metadata": {},
     "output_type": "execute_result"
    }
   ],
   "source": [
    "Animal_df.columns"
   ]
  },
  {
   "cell_type": "code",
   "execution_count": 8,
   "metadata": {},
   "outputs": [
    {
     "data": {
      "text/plain": [
       "ID                    0\n",
       "Order                 0\n",
       "Suborder           5705\n",
       "Infraorder        12154\n",
       "Superfamily       10950\n",
       "Family               62\n",
       "Subfamily          4082\n",
       "Tribe             11196\n",
       "Genus               392\n",
       "Subgenus          10964\n",
       "Species            1814\n",
       "Subspecies         7230\n",
       "TaxonLevel            0\n",
       "Extinct?              0\n",
       "OriginalName      13510\n",
       "ValidName             1\n",
       "Author                0\n",
       "Date                  2\n",
       "ActualDate        13319\n",
       "CitationName       5198\n",
       "CitationVolume     6152\n",
       "CitationIssue     12927\n",
       "CitationPages      5229\n",
       "CitationType      13577\n",
       "TypeSpecies       12274\n",
       "CommonName         8132\n",
       "TypeLocality       6855\n",
       "Distribution       8137\n",
       "Status             8589\n",
       "Synonyms           9467\n",
       "Comments           6860\n",
       "File                  0\n",
       "SortOrder             0\n",
       "DisplayOrder          0\n",
       "dtype: int64"
      ]
     },
     "execution_count": 8,
     "metadata": {},
     "output_type": "execute_result"
    }
   ],
   "source": [
    "Animal_df.isna().sum()"
   ]
  },
  {
   "cell_type": "markdown",
   "metadata": {},
   "source": [
    "We will be working with specific columns for this analysis so can drop the unneccessary ones."
   ]
  },
  {
   "cell_type": "code",
   "execution_count": 9,
   "metadata": {},
   "outputs": [],
   "source": [
    "Relevant_columns = ['Species','TypeSpecies','Family','CommonName','TypeLocality','Status','Extinct?']"
   ]
  },
  {
   "cell_type": "code",
   "execution_count": 10,
   "metadata": {},
   "outputs": [],
   "source": [
    "Df_copy = Animal_df[Relevant_columns].copy()"
   ]
  },
  {
   "cell_type": "code",
   "execution_count": 11,
   "metadata": {},
   "outputs": [
    {
     "data": {
      "text/html": [
       "<div>\n",
       "<style scoped>\n",
       "    .dataframe tbody tr th:only-of-type {\n",
       "        vertical-align: middle;\n",
       "    }\n",
       "\n",
       "    .dataframe tbody tr th {\n",
       "        vertical-align: top;\n",
       "    }\n",
       "\n",
       "    .dataframe thead th {\n",
       "        text-align: right;\n",
       "    }\n",
       "</style>\n",
       "<table border=\"1\" class=\"dataframe\">\n",
       "  <thead>\n",
       "    <tr style=\"text-align: right;\">\n",
       "      <th></th>\n",
       "      <th>Species</th>\n",
       "      <th>TypeSpecies</th>\n",
       "      <th>Family</th>\n",
       "      <th>CommonName</th>\n",
       "      <th>TypeLocality</th>\n",
       "      <th>Status</th>\n",
       "      <th>Extinct?</th>\n",
       "    </tr>\n",
       "  </thead>\n",
       "  <tbody>\n",
       "    <tr>\n",
       "      <th>0</th>\n",
       "      <td>NaN</td>\n",
       "      <td>NaN</td>\n",
       "      <td>NaN</td>\n",
       "      <td>NaN</td>\n",
       "      <td>NaN</td>\n",
       "      <td>NaN</td>\n",
       "      <td>False</td>\n",
       "    </tr>\n",
       "    <tr>\n",
       "      <th>1</th>\n",
       "      <td>NaN</td>\n",
       "      <td>NaN</td>\n",
       "      <td>Tachyglossidae</td>\n",
       "      <td>NaN</td>\n",
       "      <td>NaN</td>\n",
       "      <td>NaN</td>\n",
       "      <td>False</td>\n",
       "    </tr>\n",
       "    <tr>\n",
       "      <th>2</th>\n",
       "      <td>NaN</td>\n",
       "      <td>&lt;i&gt;Echidna novaehollandiae&lt;/i&gt; Lac�p�de, 1799 ...</td>\n",
       "      <td>Tachyglossidae</td>\n",
       "      <td>NaN</td>\n",
       "      <td>NaN</td>\n",
       "      <td>NaN</td>\n",
       "      <td>False</td>\n",
       "    </tr>\n",
       "    <tr>\n",
       "      <th>3</th>\n",
       "      <td>aculeatus</td>\n",
       "      <td>NaN</td>\n",
       "      <td>Tachyglossidae</td>\n",
       "      <td>Short-beaked Echidna</td>\n",
       "      <td>Australia, New South Wales, New Holland (= Syd...</td>\n",
       "      <td>IUCN �� Lower Risk (nt) as &lt;i&gt;T. a.&lt;/i&gt; &lt;i&gt;mul...</td>\n",
       "      <td>False</td>\n",
       "    </tr>\n",
       "    <tr>\n",
       "      <th>4</th>\n",
       "      <td>aculeatus</td>\n",
       "      <td>NaN</td>\n",
       "      <td>Tachyglossidae</td>\n",
       "      <td>NaN</td>\n",
       "      <td>Australia, New South Wales, New Holland (= Syd...</td>\n",
       "      <td>NaN</td>\n",
       "      <td>False</td>\n",
       "    </tr>\n",
       "  </tbody>\n",
       "</table>\n",
       "</div>"
      ],
      "text/plain": [
       "     Species                                        TypeSpecies  \\\n",
       "0        NaN                                                NaN   \n",
       "1        NaN                                                NaN   \n",
       "2        NaN  <i>Echidna novaehollandiae</i> Lac�p�de, 1799 ...   \n",
       "3  aculeatus                                                NaN   \n",
       "4  aculeatus                                                NaN   \n",
       "\n",
       "           Family            CommonName  \\\n",
       "0             NaN                   NaN   \n",
       "1  Tachyglossidae                   NaN   \n",
       "2  Tachyglossidae                   NaN   \n",
       "3  Tachyglossidae  Short-beaked Echidna   \n",
       "4  Tachyglossidae                   NaN   \n",
       "\n",
       "                                        TypeLocality  \\\n",
       "0                                                NaN   \n",
       "1                                                NaN   \n",
       "2                                                NaN   \n",
       "3  Australia, New South Wales, New Holland (= Syd...   \n",
       "4  Australia, New South Wales, New Holland (= Syd...   \n",
       "\n",
       "                                              Status  Extinct?  \n",
       "0                                                NaN     False  \n",
       "1                                                NaN     False  \n",
       "2                                                NaN     False  \n",
       "3  IUCN �� Lower Risk (nt) as <i>T. a.</i> <i>mul...     False  \n",
       "4                                                NaN     False  "
      ]
     },
     "execution_count": 11,
     "metadata": {},
     "output_type": "execute_result"
    }
   ],
   "source": [
    "Df_copy.head()"
   ]
  },
  {
   "cell_type": "markdown",
   "metadata": {},
   "source": [
    "## Inspecting the new dataframe"
   ]
  },
  {
   "cell_type": "code",
   "execution_count": 12,
   "metadata": {},
   "outputs": [
    {
     "data": {
      "text/plain": [
       "Species          1814\n",
       "TypeSpecies     12274\n",
       "Family             62\n",
       "CommonName       8132\n",
       "TypeLocality     6855\n",
       "Status           8589\n",
       "Extinct?            0\n",
       "dtype: int64"
      ]
     },
     "execution_count": 12,
     "metadata": {},
     "output_type": "execute_result"
    }
   ],
   "source": [
    "Df_copy.isna().sum()"
   ]
  },
  {
   "cell_type": "code",
   "execution_count": 13,
   "metadata": {},
   "outputs": [
    {
     "data": {
      "text/plain": [
       "Species          1814\n",
       "TypeSpecies     12274\n",
       "Family             62\n",
       "CommonName       8132\n",
       "TypeLocality     6855\n",
       "Status           8589\n",
       "dtype: int64"
      ]
     },
     "execution_count": 13,
     "metadata": {},
     "output_type": "execute_result"
    }
   ],
   "source": [
    "Df_copy.isnull().sum().loc[Df_copy.isnull().sum().gt(0)]"
   ]
  },
  {
   "cell_type": "code",
   "execution_count": 14,
   "metadata": {},
   "outputs": [
    {
     "data": {
      "text/plain": [
       "Species         0.133559\n",
       "TypeSpecies     0.903696\n",
       "Family          0.004565\n",
       "CommonName      0.598734\n",
       "TypeLocality    0.504712\n",
       "Status          0.632381\n",
       "Extinct?        0.000000\n",
       "dtype: float64"
      ]
     },
     "execution_count": 14,
     "metadata": {},
     "output_type": "execute_result"
    }
   ],
   "source": [
    "Df_copy.isna().sum()/len(Df_copy)"
   ]
  },
  {
   "cell_type": "markdown",
   "metadata": {},
   "source": [
    "From the cell above, We can see that 90% of `TypeSpecies` is missing and there is little that can be done to get all these missing values. So we will be dropping the column due to large missing values."
   ]
  },
  {
   "cell_type": "code",
   "execution_count": 15,
   "metadata": {},
   "outputs": [],
   "source": [
    "Df_copy.drop(\"TypeSpecies\", axis = 1, inplace = True)"
   ]
  },
  {
   "cell_type": "code",
   "execution_count": 16,
   "metadata": {},
   "outputs": [
    {
     "data": {
      "text/html": [
       "<div>\n",
       "<style scoped>\n",
       "    .dataframe tbody tr th:only-of-type {\n",
       "        vertical-align: middle;\n",
       "    }\n",
       "\n",
       "    .dataframe tbody tr th {\n",
       "        vertical-align: top;\n",
       "    }\n",
       "\n",
       "    .dataframe thead th {\n",
       "        text-align: right;\n",
       "    }\n",
       "</style>\n",
       "<table border=\"1\" class=\"dataframe\">\n",
       "  <thead>\n",
       "    <tr style=\"text-align: right;\">\n",
       "      <th></th>\n",
       "      <th>Species</th>\n",
       "      <th>Family</th>\n",
       "      <th>CommonName</th>\n",
       "      <th>TypeLocality</th>\n",
       "      <th>Status</th>\n",
       "      <th>Extinct?</th>\n",
       "    </tr>\n",
       "  </thead>\n",
       "  <tbody>\n",
       "    <tr>\n",
       "      <th>0</th>\n",
       "      <td>NaN</td>\n",
       "      <td>NaN</td>\n",
       "      <td>NaN</td>\n",
       "      <td>NaN</td>\n",
       "      <td>NaN</td>\n",
       "      <td>False</td>\n",
       "    </tr>\n",
       "    <tr>\n",
       "      <th>1</th>\n",
       "      <td>NaN</td>\n",
       "      <td>Tachyglossidae</td>\n",
       "      <td>NaN</td>\n",
       "      <td>NaN</td>\n",
       "      <td>NaN</td>\n",
       "      <td>False</td>\n",
       "    </tr>\n",
       "    <tr>\n",
       "      <th>2</th>\n",
       "      <td>NaN</td>\n",
       "      <td>Tachyglossidae</td>\n",
       "      <td>NaN</td>\n",
       "      <td>NaN</td>\n",
       "      <td>NaN</td>\n",
       "      <td>False</td>\n",
       "    </tr>\n",
       "    <tr>\n",
       "      <th>3</th>\n",
       "      <td>aculeatus</td>\n",
       "      <td>Tachyglossidae</td>\n",
       "      <td>Short-beaked Echidna</td>\n",
       "      <td>Australia, New South Wales, New Holland (= Syd...</td>\n",
       "      <td>IUCN �� Lower Risk (nt) as &lt;i&gt;T. a.&lt;/i&gt; &lt;i&gt;mul...</td>\n",
       "      <td>False</td>\n",
       "    </tr>\n",
       "    <tr>\n",
       "      <th>4</th>\n",
       "      <td>aculeatus</td>\n",
       "      <td>Tachyglossidae</td>\n",
       "      <td>NaN</td>\n",
       "      <td>Australia, New South Wales, New Holland (= Syd...</td>\n",
       "      <td>NaN</td>\n",
       "      <td>False</td>\n",
       "    </tr>\n",
       "  </tbody>\n",
       "</table>\n",
       "</div>"
      ],
      "text/plain": [
       "     Species          Family            CommonName  \\\n",
       "0        NaN             NaN                   NaN   \n",
       "1        NaN  Tachyglossidae                   NaN   \n",
       "2        NaN  Tachyglossidae                   NaN   \n",
       "3  aculeatus  Tachyglossidae  Short-beaked Echidna   \n",
       "4  aculeatus  Tachyglossidae                   NaN   \n",
       "\n",
       "                                        TypeLocality  \\\n",
       "0                                                NaN   \n",
       "1                                                NaN   \n",
       "2                                                NaN   \n",
       "3  Australia, New South Wales, New Holland (= Syd...   \n",
       "4  Australia, New South Wales, New Holland (= Syd...   \n",
       "\n",
       "                                              Status  Extinct?  \n",
       "0                                                NaN     False  \n",
       "1                                                NaN     False  \n",
       "2                                                NaN     False  \n",
       "3  IUCN �� Lower Risk (nt) as <i>T. a.</i> <i>mul...     False  \n",
       "4                                                NaN     False  "
      ]
     },
     "execution_count": 16,
     "metadata": {},
     "output_type": "execute_result"
    }
   ],
   "source": [
    "Df_copy.head()"
   ]
  },
  {
   "cell_type": "code",
   "execution_count": 17,
   "metadata": {},
   "outputs": [
    {
     "data": {
      "text/plain": [
       "Species         0.133559\n",
       "Family          0.004565\n",
       "CommonName      0.598734\n",
       "TypeLocality    0.504712\n",
       "Status          0.632381\n",
       "Extinct?        0.000000\n",
       "dtype: float64"
      ]
     },
     "execution_count": 17,
     "metadata": {},
     "output_type": "execute_result"
    }
   ],
   "source": [
    "Df_copy.isna().sum()/len(Df_copy)"
   ]
  },
  {
   "cell_type": "markdown",
   "metadata": {},
   "source": [
    "Renaming the columns to a more suitable names so as to facilitate proper selection of the columns."
   ]
  },
  {
   "cell_type": "code",
   "execution_count": 18,
   "metadata": {},
   "outputs": [],
   "source": [
    "Df_copy.rename(columns = {'CommonName': 'Common_name',\n",
    "                         'TypeLocality': 'Locality',\n",
    "                         'Extinct?': 'Extinct'}, \n",
    "                      inplace = True)"
   ]
  },
  {
   "cell_type": "code",
   "execution_count": 19,
   "metadata": {},
   "outputs": [
    {
     "data": {
      "text/html": [
       "<div>\n",
       "<style scoped>\n",
       "    .dataframe tbody tr th:only-of-type {\n",
       "        vertical-align: middle;\n",
       "    }\n",
       "\n",
       "    .dataframe tbody tr th {\n",
       "        vertical-align: top;\n",
       "    }\n",
       "\n",
       "    .dataframe thead th {\n",
       "        text-align: right;\n",
       "    }\n",
       "</style>\n",
       "<table border=\"1\" class=\"dataframe\">\n",
       "  <thead>\n",
       "    <tr style=\"text-align: right;\">\n",
       "      <th></th>\n",
       "      <th>Species</th>\n",
       "      <th>Family</th>\n",
       "      <th>Common_name</th>\n",
       "      <th>Locality</th>\n",
       "      <th>Status</th>\n",
       "      <th>Extinct</th>\n",
       "    </tr>\n",
       "  </thead>\n",
       "  <tbody>\n",
       "    <tr>\n",
       "      <th>0</th>\n",
       "      <td>NaN</td>\n",
       "      <td>NaN</td>\n",
       "      <td>NaN</td>\n",
       "      <td>NaN</td>\n",
       "      <td>NaN</td>\n",
       "      <td>False</td>\n",
       "    </tr>\n",
       "    <tr>\n",
       "      <th>1</th>\n",
       "      <td>NaN</td>\n",
       "      <td>Tachyglossidae</td>\n",
       "      <td>NaN</td>\n",
       "      <td>NaN</td>\n",
       "      <td>NaN</td>\n",
       "      <td>False</td>\n",
       "    </tr>\n",
       "    <tr>\n",
       "      <th>2</th>\n",
       "      <td>NaN</td>\n",
       "      <td>Tachyglossidae</td>\n",
       "      <td>NaN</td>\n",
       "      <td>NaN</td>\n",
       "      <td>NaN</td>\n",
       "      <td>False</td>\n",
       "    </tr>\n",
       "    <tr>\n",
       "      <th>3</th>\n",
       "      <td>aculeatus</td>\n",
       "      <td>Tachyglossidae</td>\n",
       "      <td>Short-beaked Echidna</td>\n",
       "      <td>Australia, New South Wales, New Holland (= Syd...</td>\n",
       "      <td>IUCN �� Lower Risk (nt) as &lt;i&gt;T. a.&lt;/i&gt; &lt;i&gt;mul...</td>\n",
       "      <td>False</td>\n",
       "    </tr>\n",
       "    <tr>\n",
       "      <th>4</th>\n",
       "      <td>aculeatus</td>\n",
       "      <td>Tachyglossidae</td>\n",
       "      <td>NaN</td>\n",
       "      <td>Australia, New South Wales, New Holland (= Syd...</td>\n",
       "      <td>NaN</td>\n",
       "      <td>False</td>\n",
       "    </tr>\n",
       "  </tbody>\n",
       "</table>\n",
       "</div>"
      ],
      "text/plain": [
       "     Species          Family           Common_name  \\\n",
       "0        NaN             NaN                   NaN   \n",
       "1        NaN  Tachyglossidae                   NaN   \n",
       "2        NaN  Tachyglossidae                   NaN   \n",
       "3  aculeatus  Tachyglossidae  Short-beaked Echidna   \n",
       "4  aculeatus  Tachyglossidae                   NaN   \n",
       "\n",
       "                                            Locality  \\\n",
       "0                                                NaN   \n",
       "1                                                NaN   \n",
       "2                                                NaN   \n",
       "3  Australia, New South Wales, New Holland (= Syd...   \n",
       "4  Australia, New South Wales, New Holland (= Syd...   \n",
       "\n",
       "                                              Status  Extinct  \n",
       "0                                                NaN    False  \n",
       "1                                                NaN    False  \n",
       "2                                                NaN    False  \n",
       "3  IUCN �� Lower Risk (nt) as <i>T. a.</i> <i>mul...    False  \n",
       "4                                                NaN    False  "
      ]
     },
     "execution_count": 19,
     "metadata": {},
     "output_type": "execute_result"
    }
   ],
   "source": [
    "Df_copy.head()"
   ]
  },
  {
   "cell_type": "markdown",
   "metadata": {},
   "source": [
    "Investigating each columns to work out how to deal with the missing values."
   ]
  },
  {
   "cell_type": "code",
   "execution_count": 20,
   "metadata": {},
   "outputs": [
    {
     "data": {
      "text/plain": [
       "bottae          142\n",
       "capensis         64\n",
       "talpoides        61\n",
       "vulpes           46\n",
       "brasiliensis     43\n",
       "               ... \n",
       "anakuma           1\n",
       "contractus        1\n",
       "vosmaeri          1\n",
       "mixtus            1\n",
       "puhoatensis       1\n",
       "Name: Species, Length: 3802, dtype: int64"
      ]
     },
     "execution_count": 20,
     "metadata": {},
     "output_type": "execute_result"
    }
   ],
   "source": [
    "Df_copy[\"Species\"].value_counts()"
   ]
  },
  {
   "cell_type": "code",
   "execution_count": 21,
   "metadata": {},
   "outputs": [
    {
     "data": {
      "text/plain": [
       "11768"
      ]
     },
     "execution_count": 21,
     "metadata": {},
     "output_type": "execute_result"
    }
   ],
   "source": [
    "Df_copy[\"Species\"].count()"
   ]
  },
  {
   "cell_type": "code",
   "execution_count": 22,
   "metadata": {},
   "outputs": [
    {
     "data": {
      "text/html": [
       "<div>\n",
       "<style scoped>\n",
       "    .dataframe tbody tr th:only-of-type {\n",
       "        vertical-align: middle;\n",
       "    }\n",
       "\n",
       "    .dataframe tbody tr th {\n",
       "        vertical-align: top;\n",
       "    }\n",
       "\n",
       "    .dataframe thead th {\n",
       "        text-align: right;\n",
       "    }\n",
       "</style>\n",
       "<table border=\"1\" class=\"dataframe\">\n",
       "  <thead>\n",
       "    <tr style=\"text-align: right;\">\n",
       "      <th></th>\n",
       "      <th>Family</th>\n",
       "      <th>Species</th>\n",
       "      <th>Common_name</th>\n",
       "    </tr>\n",
       "  </thead>\n",
       "  <tbody>\n",
       "    <tr>\n",
       "      <th>0</th>\n",
       "      <td>NaN</td>\n",
       "      <td>NaN</td>\n",
       "      <td>NaN</td>\n",
       "    </tr>\n",
       "    <tr>\n",
       "      <th>1</th>\n",
       "      <td>Tachyglossidae</td>\n",
       "      <td>NaN</td>\n",
       "      <td>NaN</td>\n",
       "    </tr>\n",
       "    <tr>\n",
       "      <th>2</th>\n",
       "      <td>Tachyglossidae</td>\n",
       "      <td>NaN</td>\n",
       "      <td>NaN</td>\n",
       "    </tr>\n",
       "    <tr>\n",
       "      <th>9</th>\n",
       "      <td>Tachyglossidae</td>\n",
       "      <td>NaN</td>\n",
       "      <td>NaN</td>\n",
       "    </tr>\n",
       "    <tr>\n",
       "      <th>17</th>\n",
       "      <td>Ornithorhynchidae</td>\n",
       "      <td>NaN</td>\n",
       "      <td>NaN</td>\n",
       "    </tr>\n",
       "    <tr>\n",
       "      <th>...</th>\n",
       "      <td>...</td>\n",
       "      <td>...</td>\n",
       "      <td>...</td>\n",
       "    </tr>\n",
       "    <tr>\n",
       "      <th>13558</th>\n",
       "      <td>Ziphiidae</td>\n",
       "      <td>NaN</td>\n",
       "      <td>NaN</td>\n",
       "    </tr>\n",
       "    <tr>\n",
       "      <th>13561</th>\n",
       "      <td>Ziphiidae</td>\n",
       "      <td>NaN</td>\n",
       "      <td>NaN</td>\n",
       "    </tr>\n",
       "    <tr>\n",
       "      <th>13563</th>\n",
       "      <td>Ziphiidae</td>\n",
       "      <td>NaN</td>\n",
       "      <td>NaN</td>\n",
       "    </tr>\n",
       "    <tr>\n",
       "      <th>13578</th>\n",
       "      <td>Ziphiidae</td>\n",
       "      <td>NaN</td>\n",
       "      <td>NaN</td>\n",
       "    </tr>\n",
       "    <tr>\n",
       "      <th>13580</th>\n",
       "      <td>Ziphiidae</td>\n",
       "      <td>NaN</td>\n",
       "      <td>NaN</td>\n",
       "    </tr>\n",
       "  </tbody>\n",
       "</table>\n",
       "<p>1814 rows × 3 columns</p>\n",
       "</div>"
      ],
      "text/plain": [
       "                  Family Species Common_name\n",
       "0                    NaN     NaN         NaN\n",
       "1         Tachyglossidae     NaN         NaN\n",
       "2         Tachyglossidae     NaN         NaN\n",
       "9         Tachyglossidae     NaN         NaN\n",
       "17     Ornithorhynchidae     NaN         NaN\n",
       "...                  ...     ...         ...\n",
       "13558          Ziphiidae     NaN         NaN\n",
       "13561          Ziphiidae     NaN         NaN\n",
       "13563          Ziphiidae     NaN         NaN\n",
       "13578          Ziphiidae     NaN         NaN\n",
       "13580          Ziphiidae     NaN         NaN\n",
       "\n",
       "[1814 rows x 3 columns]"
      ]
     },
     "execution_count": 22,
     "metadata": {},
     "output_type": "execute_result"
    }
   ],
   "source": [
    "Df_copy.loc[Df_copy.Species.isnull(), [\"Family\",\"Species\", \"Common_name\"]]"
   ]
  },
  {
   "cell_type": "code",
   "execution_count": 23,
   "metadata": {},
   "outputs": [
    {
     "data": {
      "text/plain": [
       "(13582, 6)"
      ]
     },
     "execution_count": 23,
     "metadata": {},
     "output_type": "execute_result"
    }
   ],
   "source": [
    "Df_copy.shape"
   ]
  },
  {
   "cell_type": "markdown",
   "metadata": {},
   "source": [
    "It is difficult to get the species of the animals from the dataframe while comparing it with other columns, so we will be dropping the rows with the missing values."
   ]
  },
  {
   "cell_type": "code",
   "execution_count": 24,
   "metadata": {},
   "outputs": [],
   "source": [
    "Df_copy = Df_copy.dropna(subset =[\"Species\", \"Status\"], how = \"any\")"
   ]
  },
  {
   "cell_type": "code",
   "execution_count": 25,
   "metadata": {},
   "outputs": [
    {
     "data": {
      "text/plain": [
       "(4993, 6)"
      ]
     },
     "execution_count": 25,
     "metadata": {},
     "output_type": "execute_result"
    }
   ],
   "source": [
    "Df_copy.shape"
   ]
  },
  {
   "cell_type": "code",
   "execution_count": 26,
   "metadata": {},
   "outputs": [
    {
     "data": {
      "text/html": [
       "<div>\n",
       "<style scoped>\n",
       "    .dataframe tbody tr th:only-of-type {\n",
       "        vertical-align: middle;\n",
       "    }\n",
       "\n",
       "    .dataframe tbody tr th {\n",
       "        vertical-align: top;\n",
       "    }\n",
       "\n",
       "    .dataframe thead th {\n",
       "        text-align: right;\n",
       "    }\n",
       "</style>\n",
       "<table border=\"1\" class=\"dataframe\">\n",
       "  <thead>\n",
       "    <tr style=\"text-align: right;\">\n",
       "      <th></th>\n",
       "      <th>Species</th>\n",
       "      <th>Family</th>\n",
       "      <th>Common_name</th>\n",
       "      <th>Locality</th>\n",
       "      <th>Status</th>\n",
       "      <th>Extinct</th>\n",
       "    </tr>\n",
       "  </thead>\n",
       "  <tbody>\n",
       "    <tr>\n",
       "      <th>4983</th>\n",
       "      <td>grayi</td>\n",
       "      <td>Ziphiidae</td>\n",
       "      <td>Gray�s Beaked Whale</td>\n",
       "      <td>New Zealand, \"the Chatham Islands. . . from sp...</td>\n",
       "      <td>CITES � Appendix II; IUCN � Data Deficient.</td>\n",
       "      <td>False</td>\n",
       "    </tr>\n",
       "    <tr>\n",
       "      <th>4984</th>\n",
       "      <td>hectori</td>\n",
       "      <td>Ziphiidae</td>\n",
       "      <td>Hector�s Beaked Whale</td>\n",
       "      <td>New Zealand, Wellington, \"killed in Tatai [sic...</td>\n",
       "      <td>CITES � Appendix II; IUCN � Data Deficient.</td>\n",
       "      <td>False</td>\n",
       "    </tr>\n",
       "    <tr>\n",
       "      <th>4985</th>\n",
       "      <td>layardii</td>\n",
       "      <td>Ziphiidae</td>\n",
       "      <td>Strap-toothed Whale</td>\n",
       "      <td>None given, probably South Africa.</td>\n",
       "      <td>CITES � Appendix II; IUCN � Data Deficient.</td>\n",
       "      <td>False</td>\n",
       "    </tr>\n",
       "    <tr>\n",
       "      <th>4986</th>\n",
       "      <td>mirus</td>\n",
       "      <td>Ziphiidae</td>\n",
       "      <td>True�s Beaked Whale</td>\n",
       "      <td>USA, \"stranded in the outer bank of Bird Islan...</td>\n",
       "      <td>CITES � Appendix II; IUCN � Data Deficient.</td>\n",
       "      <td>False</td>\n",
       "    </tr>\n",
       "    <tr>\n",
       "      <th>4987</th>\n",
       "      <td>perrini</td>\n",
       "      <td>Ziphiidae</td>\n",
       "      <td>Perrin�s Beaked Whale</td>\n",
       "      <td>U.S.A., Carlsbad, California.</td>\n",
       "      <td>CITES � Appendix II.</td>\n",
       "      <td>False</td>\n",
       "    </tr>\n",
       "    <tr>\n",
       "      <th>4988</th>\n",
       "      <td>peruvianus</td>\n",
       "      <td>Ziphiidae</td>\n",
       "      <td>Pygmy Beaked Whale</td>\n",
       "      <td>\"Playa Paraiso (11�12' S), Huacho, Lima, Peru.\"</td>\n",
       "      <td>CITES � Appendix II; IUCN � Data Deficient.</td>\n",
       "      <td>False</td>\n",
       "    </tr>\n",
       "    <tr>\n",
       "      <th>4989</th>\n",
       "      <td>stejnegeri</td>\n",
       "      <td>Ziphiidae</td>\n",
       "      <td>Stejneger�s Beaked Whale</td>\n",
       "      <td>Russia, Commander Isls, \"Bering Island\".</td>\n",
       "      <td>CITES � Appendix II; IUCN � Data Deficient.</td>\n",
       "      <td>False</td>\n",
       "    </tr>\n",
       "    <tr>\n",
       "      <th>4990</th>\n",
       "      <td>traversii</td>\n",
       "      <td>Ziphiidae</td>\n",
       "      <td>Spade-toothed Whale</td>\n",
       "      <td>Chatham Isl, New Zealand.</td>\n",
       "      <td>CITES � Appendix II.</td>\n",
       "      <td>False</td>\n",
       "    </tr>\n",
       "    <tr>\n",
       "      <th>4991</th>\n",
       "      <td>shepherdi</td>\n",
       "      <td>Ziphiidae</td>\n",
       "      <td>Shepherd�s Beaked Whale</td>\n",
       "      <td>New Zealand, North Isl, \"cast upon the beach a...</td>\n",
       "      <td>CITES � Appendix II; IUCN � Data Deficient.</td>\n",
       "      <td>False</td>\n",
       "    </tr>\n",
       "    <tr>\n",
       "      <th>4992</th>\n",
       "      <td>cavirostris</td>\n",
       "      <td>Ziphiidae</td>\n",
       "      <td>Cuvier�s Beaked Whale</td>\n",
       "      <td>France, \"dans le d�partement des Bouches-du-Rh...</td>\n",
       "      <td>CITES � Appendix II; IUCN � Data Deficient.</td>\n",
       "      <td>False</td>\n",
       "    </tr>\n",
       "  </tbody>\n",
       "</table>\n",
       "</div>"
      ],
      "text/plain": [
       "          Species     Family               Common_name  \\\n",
       "4983        grayi  Ziphiidae       Gray�s Beaked Whale   \n",
       "4984      hectori  Ziphiidae     Hector�s Beaked Whale   \n",
       "4985     layardii  Ziphiidae       Strap-toothed Whale   \n",
       "4986        mirus  Ziphiidae       True�s Beaked Whale   \n",
       "4987      perrini  Ziphiidae     Perrin�s Beaked Whale   \n",
       "4988   peruvianus  Ziphiidae        Pygmy Beaked Whale   \n",
       "4989   stejnegeri  Ziphiidae  Stejneger�s Beaked Whale   \n",
       "4990    traversii  Ziphiidae       Spade-toothed Whale   \n",
       "4991    shepherdi  Ziphiidae   Shepherd�s Beaked Whale   \n",
       "4992  cavirostris  Ziphiidae     Cuvier�s Beaked Whale   \n",
       "\n",
       "                                               Locality  \\\n",
       "4983  New Zealand, \"the Chatham Islands. . . from sp...   \n",
       "4984  New Zealand, Wellington, \"killed in Tatai [sic...   \n",
       "4985                 None given, probably South Africa.   \n",
       "4986  USA, \"stranded in the outer bank of Bird Islan...   \n",
       "4987                      U.S.A., Carlsbad, California.   \n",
       "4988    \"Playa Paraiso (11�12' S), Huacho, Lima, Peru.\"   \n",
       "4989           Russia, Commander Isls, \"Bering Island\".   \n",
       "4990                          Chatham Isl, New Zealand.   \n",
       "4991  New Zealand, North Isl, \"cast upon the beach a...   \n",
       "4992  France, \"dans le d�partement des Bouches-du-Rh...   \n",
       "\n",
       "                                           Status  Extinct  \n",
       "4983  CITES � Appendix II; IUCN � Data Deficient.    False  \n",
       "4984  CITES � Appendix II; IUCN � Data Deficient.    False  \n",
       "4985  CITES � Appendix II; IUCN � Data Deficient.    False  \n",
       "4986  CITES � Appendix II; IUCN � Data Deficient.    False  \n",
       "4987                         CITES � Appendix II.    False  \n",
       "4988  CITES � Appendix II; IUCN � Data Deficient.    False  \n",
       "4989  CITES � Appendix II; IUCN � Data Deficient.    False  \n",
       "4990                         CITES � Appendix II.    False  \n",
       "4991  CITES � Appendix II; IUCN � Data Deficient.    False  \n",
       "4992  CITES � Appendix II; IUCN � Data Deficient.    False  "
      ]
     },
     "execution_count": 26,
     "metadata": {},
     "output_type": "execute_result"
    }
   ],
   "source": [
    "Df_copy.reset_index(drop = True).tail(10)"
   ]
  },
  {
   "cell_type": "code",
   "execution_count": 27,
   "metadata": {},
   "outputs": [
    {
     "data": {
      "text/plain": [
       "Species        0.0000\n",
       "Family         0.0000\n",
       "Common_name    0.0002\n",
       "Locality       0.0000\n",
       "Status         0.0000\n",
       "Extinct        0.0000\n",
       "dtype: float64"
      ]
     },
     "execution_count": 27,
     "metadata": {},
     "output_type": "execute_result"
    }
   ],
   "source": [
    "Df_copy.isna().sum()/len(Df_copy)"
   ]
  },
  {
   "cell_type": "code",
   "execution_count": 42,
   "metadata": {},
   "outputs": [
    {
     "data": {
      "text/plain": [
       "0.0"
      ]
     },
     "execution_count": 42,
     "metadata": {},
     "output_type": "execute_result"
    }
   ],
   "source": [
    "Df_copy.Common_name.isna().sum()/len(Df_copy)"
   ]
  },
  {
   "cell_type": "code",
   "execution_count": 28,
   "metadata": {
    "scrolled": false
   },
   "outputs": [
    {
     "data": {
      "text/html": [
       "<div>\n",
       "<style scoped>\n",
       "    .dataframe tbody tr th:only-of-type {\n",
       "        vertical-align: middle;\n",
       "    }\n",
       "\n",
       "    .dataframe tbody tr th {\n",
       "        vertical-align: top;\n",
       "    }\n",
       "\n",
       "    .dataframe thead th {\n",
       "        text-align: right;\n",
       "    }\n",
       "</style>\n",
       "<table border=\"1\" class=\"dataframe\">\n",
       "  <thead>\n",
       "    <tr style=\"text-align: right;\">\n",
       "      <th></th>\n",
       "      <th>Species</th>\n",
       "      <th>Family</th>\n",
       "      <th>Common_name</th>\n",
       "      <th>Locality</th>\n",
       "      <th>Status</th>\n",
       "      <th>Extinct</th>\n",
       "    </tr>\n",
       "  </thead>\n",
       "  <tbody>\n",
       "    <tr>\n",
       "      <th>0</th>\n",
       "      <td>aculeatus</td>\n",
       "      <td>Tachyglossidae</td>\n",
       "      <td>Short-beaked Echidna</td>\n",
       "      <td>Australia, New South Wales, New Holland (= Syd...</td>\n",
       "      <td>IUCN �� Lower Risk (nt) as &lt;i&gt;T. a.&lt;/i&gt; &lt;i&gt;mul...</td>\n",
       "      <td>False</td>\n",
       "    </tr>\n",
       "    <tr>\n",
       "      <th>1</th>\n",
       "      <td>attenboroughi</td>\n",
       "      <td>Tachyglossidae</td>\n",
       "      <td>Sir David�s Long-beaked Echidna.</td>\n",
       "      <td>Indonesia, Prov. of Papua (= Irian Jaya), Cycl...</td>\n",
       "      <td>CITES - Appendix II.</td>\n",
       "      <td>False</td>\n",
       "    </tr>\n",
       "    <tr>\n",
       "      <th>2</th>\n",
       "      <td>bartoni</td>\n",
       "      <td>Tachyglossidae</td>\n",
       "      <td>Eastern Long-beaked Echidna</td>\n",
       "      <td>Papua New Guinea, Albert Edward Range, Mount V...</td>\n",
       "      <td>CITES - Appendix II; IUCN � Endangered as &lt;i&gt;Z...</td>\n",
       "      <td>False</td>\n",
       "    </tr>\n",
       "    <tr>\n",
       "      <th>3</th>\n",
       "      <td>bruijni</td>\n",
       "      <td>Tachyglossidae</td>\n",
       "      <td>Western Long-beaked Echidna.</td>\n",
       "      <td>Indonesia, Prov. of Papua (= Irian Jaya), Voge...</td>\n",
       "      <td>CITES - Appendix II; IUCN � Endangered.</td>\n",
       "      <td>False</td>\n",
       "    </tr>\n",
       "    <tr>\n",
       "      <th>4</th>\n",
       "      <td>anatinus</td>\n",
       "      <td>Ornithorhynchidae</td>\n",
       "      <td>Platypus.</td>\n",
       "      <td>Australia, New South Wales, New Holland (= Syd...</td>\n",
       "      <td>IUCN � Lower Risk (lc); common but vulnerable ...</td>\n",
       "      <td>False</td>\n",
       "    </tr>\n",
       "  </tbody>\n",
       "</table>\n",
       "</div>"
      ],
      "text/plain": [
       "         Species             Family                       Common_name  \\\n",
       "0      aculeatus     Tachyglossidae              Short-beaked Echidna   \n",
       "1  attenboroughi     Tachyglossidae  Sir David�s Long-beaked Echidna.   \n",
       "2        bartoni     Tachyglossidae       Eastern Long-beaked Echidna   \n",
       "3        bruijni     Tachyglossidae      Western Long-beaked Echidna.   \n",
       "4       anatinus  Ornithorhynchidae                         Platypus.   \n",
       "\n",
       "                                            Locality  \\\n",
       "0  Australia, New South Wales, New Holland (= Syd...   \n",
       "1  Indonesia, Prov. of Papua (= Irian Jaya), Cycl...   \n",
       "2  Papua New Guinea, Albert Edward Range, Mount V...   \n",
       "3  Indonesia, Prov. of Papua (= Irian Jaya), Voge...   \n",
       "4  Australia, New South Wales, New Holland (= Syd...   \n",
       "\n",
       "                                              Status  Extinct  \n",
       "0  IUCN �� Lower Risk (nt) as <i>T. a.</i> <i>mul...    False  \n",
       "1                               CITES - Appendix II.    False  \n",
       "2  CITES - Appendix II; IUCN � Endangered as <i>Z...    False  \n",
       "3            CITES - Appendix II; IUCN � Endangered.    False  \n",
       "4  IUCN � Lower Risk (lc); common but vulnerable ...    False  "
      ]
     },
     "execution_count": 28,
     "metadata": {},
     "output_type": "execute_result"
    }
   ],
   "source": [
    "Df_copy.reset_index(drop = True).head()"
   ]
  },
  {
   "cell_type": "code",
   "execution_count": 29,
   "metadata": {},
   "outputs": [
    {
     "data": {
      "text/plain": [
       "(4993, 6)"
      ]
     },
     "execution_count": 29,
     "metadata": {},
     "output_type": "execute_result"
    }
   ],
   "source": [
    "Df_copy.shape"
   ]
  },
  {
   "cell_type": "markdown",
   "metadata": {},
   "source": [
    "Removing the encode in the dataframe."
   ]
  },
  {
   "cell_type": "code",
   "execution_count": 43,
   "metadata": {},
   "outputs": [],
   "source": [
    "def remove_non_ascii(text):\n",
    "    return ''.join([i for i in str (text) if ord(i)<128])\n",
    "Df_copy[\"Status\"] = Df_copy[\"Status\"].apply(remove_non_ascii)"
   ]
  },
  {
   "cell_type": "code",
   "execution_count": 44,
   "metadata": {},
   "outputs": [],
   "source": [
    "Df_copy[\"Locality\"] = Df_copy[\"Locality\"].apply(remove_non_ascii)"
   ]
  },
  {
   "cell_type": "code",
   "execution_count": 45,
   "metadata": {},
   "outputs": [],
   "source": [
    "Df_copy[\"Common_name\"] = Df_copy[\"Common_name\"].apply(remove_non_ascii)"
   ]
  },
  {
   "cell_type": "code",
   "execution_count": 46,
   "metadata": {},
   "outputs": [
    {
     "data": {
      "text/html": [
       "<div>\n",
       "<style scoped>\n",
       "    .dataframe tbody tr th:only-of-type {\n",
       "        vertical-align: middle;\n",
       "    }\n",
       "\n",
       "    .dataframe tbody tr th {\n",
       "        vertical-align: top;\n",
       "    }\n",
       "\n",
       "    .dataframe thead th {\n",
       "        text-align: right;\n",
       "    }\n",
       "</style>\n",
       "<table border=\"1\" class=\"dataframe\">\n",
       "  <thead>\n",
       "    <tr style=\"text-align: right;\">\n",
       "      <th></th>\n",
       "      <th>Species</th>\n",
       "      <th>Family</th>\n",
       "      <th>Common_name</th>\n",
       "      <th>Locality</th>\n",
       "      <th>Status</th>\n",
       "      <th>Extinct</th>\n",
       "    </tr>\n",
       "  </thead>\n",
       "  <tbody>\n",
       "    <tr>\n",
       "      <th>0</th>\n",
       "      <td>aculeatus</td>\n",
       "      <td>Tachyglossidae</td>\n",
       "      <td>Short-beaked Echidna</td>\n",
       "      <td>Australia, New South Wales, New Holland (= Syd...</td>\n",
       "      <td>Lower risk</td>\n",
       "      <td>False</td>\n",
       "    </tr>\n",
       "    <tr>\n",
       "      <th>1</th>\n",
       "      <td>attenboroughi</td>\n",
       "      <td>Tachyglossidae</td>\n",
       "      <td>Sir Davids Long-beaked Echidna.</td>\n",
       "      <td>Indonesia, Prov. of Papua (= Irian Jaya), Cycl...</td>\n",
       "      <td>Check Appendix</td>\n",
       "      <td>False</td>\n",
       "    </tr>\n",
       "    <tr>\n",
       "      <th>2</th>\n",
       "      <td>bartoni</td>\n",
       "      <td>Tachyglossidae</td>\n",
       "      <td>Eastern Long-beaked Echidna</td>\n",
       "      <td>Papua New Guinea, Albert Edward Range, Mount V...</td>\n",
       "      <td>Endangered</td>\n",
       "      <td>False</td>\n",
       "    </tr>\n",
       "    <tr>\n",
       "      <th>3</th>\n",
       "      <td>bruijni</td>\n",
       "      <td>Tachyglossidae</td>\n",
       "      <td>Western Long-beaked Echidna.</td>\n",
       "      <td>Indonesia, Prov. of Papua (= Irian Jaya), Voge...</td>\n",
       "      <td>Endangered</td>\n",
       "      <td>False</td>\n",
       "    </tr>\n",
       "    <tr>\n",
       "      <th>4</th>\n",
       "      <td>anatinus</td>\n",
       "      <td>Ornithorhynchidae</td>\n",
       "      <td>Platypus.</td>\n",
       "      <td>Australia, New South Wales, New Holland (= Syd...</td>\n",
       "      <td>Lower risk</td>\n",
       "      <td>False</td>\n",
       "    </tr>\n",
       "  </tbody>\n",
       "</table>\n",
       "</div>"
      ],
      "text/plain": [
       "         Species             Family                      Common_name  \\\n",
       "0      aculeatus     Tachyglossidae             Short-beaked Echidna   \n",
       "1  attenboroughi     Tachyglossidae  Sir Davids Long-beaked Echidna.   \n",
       "2        bartoni     Tachyglossidae      Eastern Long-beaked Echidna   \n",
       "3        bruijni     Tachyglossidae     Western Long-beaked Echidna.   \n",
       "4       anatinus  Ornithorhynchidae                        Platypus.   \n",
       "\n",
       "                                            Locality          Status  Extinct  \n",
       "0  Australia, New South Wales, New Holland (= Syd...      Lower risk    False  \n",
       "1  Indonesia, Prov. of Papua (= Irian Jaya), Cycl...  Check Appendix    False  \n",
       "2  Papua New Guinea, Albert Edward Range, Mount V...      Endangered    False  \n",
       "3  Indonesia, Prov. of Papua (= Irian Jaya), Voge...      Endangered    False  \n",
       "4  Australia, New South Wales, New Holland (= Syd...      Lower risk    False  "
      ]
     },
     "execution_count": 46,
     "metadata": {},
     "output_type": "execute_result"
    }
   ],
   "source": [
    "Df_copy.reset_index(drop = True).head()"
   ]
  },
  {
   "cell_type": "markdown",
   "metadata": {},
   "source": [
    "Assign the actual status to the animals and get rid of the long status in the column"
   ]
  },
  {
   "cell_type": "code",
   "execution_count": 47,
   "metadata": {},
   "outputs": [
    {
     "data": {
      "text/plain": [
       "0        True\n",
       "1       False\n",
       "2       False\n",
       "3       False\n",
       "4        True\n",
       "        ...  \n",
       "4988    False\n",
       "4989    False\n",
       "4990    False\n",
       "4991    False\n",
       "4992    False\n",
       "Name: Status, Length: 4993, dtype: bool"
      ]
     },
     "execution_count": 47,
     "metadata": {},
     "output_type": "execute_result"
    }
   ],
   "source": [
    "Df_copy[\"Status\"].str.contains(r\"Lower\").reset_index(drop = True)"
   ]
  },
  {
   "cell_type": "code",
   "execution_count": 35,
   "metadata": {},
   "outputs": [],
   "source": [
    "Df_copy[\"Status\"]=np.where(Df_copy[\"Status\"].str.contains(r\"Lower\"),\"Lower risk\",\n",
    "                           np.where(Df_copy[\"Status\"].str.contains(r\"Endanger\"),\"Endangered\",\n",
    "                            np.where(Df_copy[\"Status\"].str.contains(r\"Vulnerable\"),\"Vulnerable\",\n",
    "                            np.where(Df_copy[\"Status\"].str.contains(r\"eficient\"),\"Data Deficiency\",\n",
    "                            np.where(Df_copy[\"Status\"].str.contains(r\"valuated\"), \"Not evaluated\",\n",
    "                            np.where(Df_copy[\"Status\"].str.contains(r\"Threatened\"), \"Threatened\",\n",
    "                        np.where(Df_copy[\"Status\"].str.contains(r\"forgotten\",r\"holotype\"), \"Dead but not forgotten\",\n",
    "                            np.where(Df_copy[\"Status\"].str.contains(r\"xtinct\"), \"Extinct\",\n",
    "                            np.where(Df_copy[\"Status\"].str.contains(r\"oncern\",r\"algoae\"), \"Least concern\",\n",
    "                            np.where(Df_copy[\"Status\"].str.contains(r\"isted\",r\"Uncommon\"), \"Not listed\",\n",
    "                            np.where(Df_copy[\"Status\"].str.contains(r\"albiventer\",r\"Merriam, 1900\"), \"Check Appendix\",\n",
    "                            np.where(Df_copy[\"Status\"].str.contains(r\"albiventer\"), \"Check Appendix\",\n",
    "                            np.where(Df_copy[\"Status\"].str.contains(r\"Appendix\",r\"Stewart et al\"), \"Check Appendix\",\n",
    "                            np.where(Df_copy[\"Status\"].str.contains(r\"Baryshnikov\",r\"Ellerman\"), \"Check Appendix\",\n",
    "                            np.where(Df_copy[\"Status\"].str.contains(r\"Roberts\",r\"Manning and Macpherson\"), \"Check Appendix\",\n",
    "                            np.where(Df_copy[\"Status\"].str.contains(r\"excluded from protection\"), \"Exclusion\",\n",
    "                            np.where(Df_copy[\"Status\"].str.contains(r\"Robinson and Kloss\",r\"Stewart et al\"), \"Check Appendix\",\n",
    "                            np.where(Df_copy[\"Status\"].str.contains(r\"Nehring\",r\"Thomas\"), \"Check Appendix\",\n",
    "                            np.where(Df_copy[\"Status\"].str.contains(r\"Lichtenstein\"), \"Check Appendix\",\n",
    "                            np.where(Df_copy[\"Status\"].str.contains(r\"Meyer and Malikov\"), \"Check Appendix\",\n",
    "                            np.where(Df_copy[\"Status\"].str.contains(r\"Higgins and Petterd\"), \"Check Appendix\",\n",
    "                            np.where(Df_copy[\"Status\"].str.contains(r\"Lataste\"), \"Check Appendix\",\n",
    "                            np.where(Df_copy[\"Status\"].str.contains(r\"Bonhote\"), \"Check Appendix\",\n",
    "                            np.where(Df_copy[\"Status\"].str.contains(r\"Manning and Macpherson\",r\"Querouil et al\"), \"Check Appendix\",\n",
    "                            np.where(Df_copy[\"Status\"].str.contains(r\"Querouil et al\"), \"Check Appendix\",\n",
    "                            np.where(Df_copy[\"Status\"].str.contains(r\"Stewart et al\"), \"Check Appendix\",\n",
    "                            np.where(Df_copy[\"Status\"].str.contains(r\"Rmmler\"), \"Check Appendix\",\n",
    "                            np.where(Df_copy[\"Status\"].str.contains(r\"Action Plan\"), \"Data Deficiency\",\n",
    "                            Df_copy[\"Status\"]))))))))))))))))))))))))))))"
   ]
  },
  {
   "cell_type": "code",
   "execution_count": 36,
   "metadata": {},
   "outputs": [
    {
     "data": {
      "text/html": [
       "<div>\n",
       "<style scoped>\n",
       "    .dataframe tbody tr th:only-of-type {\n",
       "        vertical-align: middle;\n",
       "    }\n",
       "\n",
       "    .dataframe tbody tr th {\n",
       "        vertical-align: top;\n",
       "    }\n",
       "\n",
       "    .dataframe thead th {\n",
       "        text-align: right;\n",
       "    }\n",
       "</style>\n",
       "<table border=\"1\" class=\"dataframe\">\n",
       "  <thead>\n",
       "    <tr style=\"text-align: right;\">\n",
       "      <th></th>\n",
       "      <th>Species</th>\n",
       "      <th>Family</th>\n",
       "      <th>Common_name</th>\n",
       "      <th>Locality</th>\n",
       "      <th>Status</th>\n",
       "      <th>Extinct</th>\n",
       "    </tr>\n",
       "  </thead>\n",
       "  <tbody>\n",
       "    <tr>\n",
       "      <th>3</th>\n",
       "      <td>aculeatus</td>\n",
       "      <td>Tachyglossidae</td>\n",
       "      <td>Short-beaked Echidna</td>\n",
       "      <td>Australia, New South Wales, New Holland (= Syd...</td>\n",
       "      <td>Lower risk</td>\n",
       "      <td>False</td>\n",
       "    </tr>\n",
       "    <tr>\n",
       "      <th>10</th>\n",
       "      <td>attenboroughi</td>\n",
       "      <td>Tachyglossidae</td>\n",
       "      <td>Sir Davids Long-beaked Echidna.</td>\n",
       "      <td>Indonesia, Prov. of Papua (= Irian Jaya), Cycl...</td>\n",
       "      <td>Check Appendix</td>\n",
       "      <td>False</td>\n",
       "    </tr>\n",
       "    <tr>\n",
       "      <th>11</th>\n",
       "      <td>bartoni</td>\n",
       "      <td>Tachyglossidae</td>\n",
       "      <td>Eastern Long-beaked Echidna</td>\n",
       "      <td>Papua New Guinea, Albert Edward Range, Mount V...</td>\n",
       "      <td>Endangered</td>\n",
       "      <td>False</td>\n",
       "    </tr>\n",
       "    <tr>\n",
       "      <th>16</th>\n",
       "      <td>bruijni</td>\n",
       "      <td>Tachyglossidae</td>\n",
       "      <td>Western Long-beaked Echidna.</td>\n",
       "      <td>Indonesia, Prov. of Papua (= Irian Jaya), Voge...</td>\n",
       "      <td>Endangered</td>\n",
       "      <td>False</td>\n",
       "    </tr>\n",
       "    <tr>\n",
       "      <th>19</th>\n",
       "      <td>anatinus</td>\n",
       "      <td>Ornithorhynchidae</td>\n",
       "      <td>Platypus.</td>\n",
       "      <td>Australia, New South Wales, New Holland (= Syd...</td>\n",
       "      <td>Lower risk</td>\n",
       "      <td>False</td>\n",
       "    </tr>\n",
       "  </tbody>\n",
       "</table>\n",
       "</div>"
      ],
      "text/plain": [
       "          Species             Family                      Common_name  \\\n",
       "3       aculeatus     Tachyglossidae             Short-beaked Echidna   \n",
       "10  attenboroughi     Tachyglossidae  Sir Davids Long-beaked Echidna.   \n",
       "11        bartoni     Tachyglossidae      Eastern Long-beaked Echidna   \n",
       "16        bruijni     Tachyglossidae     Western Long-beaked Echidna.   \n",
       "19       anatinus  Ornithorhynchidae                        Platypus.   \n",
       "\n",
       "                                             Locality          Status  Extinct  \n",
       "3   Australia, New South Wales, New Holland (= Syd...      Lower risk    False  \n",
       "10  Indonesia, Prov. of Papua (= Irian Jaya), Cycl...  Check Appendix    False  \n",
       "11  Papua New Guinea, Albert Edward Range, Mount V...      Endangered    False  \n",
       "16  Indonesia, Prov. of Papua (= Irian Jaya), Voge...      Endangered    False  \n",
       "19  Australia, New South Wales, New Holland (= Syd...      Lower risk    False  "
      ]
     },
     "execution_count": 36,
     "metadata": {},
     "output_type": "execute_result"
    }
   ],
   "source": [
    "Df_copy.head()"
   ]
  },
  {
   "cell_type": "code",
   "execution_count": 49,
   "metadata": {
    "scrolled": true
   },
   "outputs": [
    {
     "data": {
      "text/plain": [
       "(4993, 6)"
      ]
     },
     "execution_count": 49,
     "metadata": {},
     "output_type": "execute_result"
    }
   ],
   "source": [
    "Df_copy.shape"
   ]
  },
  {
   "cell_type": "markdown",
   "metadata": {},
   "source": [
    "Reset the index"
   ]
  },
  {
   "cell_type": "code",
   "execution_count": 50,
   "metadata": {},
   "outputs": [],
   "source": [
    "Df_copy = Df_copy.reset_index(drop = True)"
   ]
  },
  {
   "cell_type": "code",
   "execution_count": 51,
   "metadata": {},
   "outputs": [
    {
     "data": {
      "text/html": [
       "<div>\n",
       "<style scoped>\n",
       "    .dataframe tbody tr th:only-of-type {\n",
       "        vertical-align: middle;\n",
       "    }\n",
       "\n",
       "    .dataframe tbody tr th {\n",
       "        vertical-align: top;\n",
       "    }\n",
       "\n",
       "    .dataframe thead th {\n",
       "        text-align: right;\n",
       "    }\n",
       "</style>\n",
       "<table border=\"1\" class=\"dataframe\">\n",
       "  <thead>\n",
       "    <tr style=\"text-align: right;\">\n",
       "      <th></th>\n",
       "      <th>Species</th>\n",
       "      <th>Family</th>\n",
       "      <th>Common_name</th>\n",
       "      <th>Locality</th>\n",
       "      <th>Status</th>\n",
       "      <th>Extinct</th>\n",
       "    </tr>\n",
       "  </thead>\n",
       "  <tbody>\n",
       "    <tr>\n",
       "      <th>0</th>\n",
       "      <td>aculeatus</td>\n",
       "      <td>Tachyglossidae</td>\n",
       "      <td>Short-beaked Echidna</td>\n",
       "      <td>Australia, New South Wales, New Holland (= Syd...</td>\n",
       "      <td>Lower risk</td>\n",
       "      <td>False</td>\n",
       "    </tr>\n",
       "    <tr>\n",
       "      <th>1</th>\n",
       "      <td>attenboroughi</td>\n",
       "      <td>Tachyglossidae</td>\n",
       "      <td>Sir Davids Long-beaked Echidna.</td>\n",
       "      <td>Indonesia, Prov. of Papua (= Irian Jaya), Cycl...</td>\n",
       "      <td>Check Appendix</td>\n",
       "      <td>False</td>\n",
       "    </tr>\n",
       "    <tr>\n",
       "      <th>2</th>\n",
       "      <td>bartoni</td>\n",
       "      <td>Tachyglossidae</td>\n",
       "      <td>Eastern Long-beaked Echidna</td>\n",
       "      <td>Papua New Guinea, Albert Edward Range, Mount V...</td>\n",
       "      <td>Endangered</td>\n",
       "      <td>False</td>\n",
       "    </tr>\n",
       "    <tr>\n",
       "      <th>3</th>\n",
       "      <td>bruijni</td>\n",
       "      <td>Tachyglossidae</td>\n",
       "      <td>Western Long-beaked Echidna.</td>\n",
       "      <td>Indonesia, Prov. of Papua (= Irian Jaya), Voge...</td>\n",
       "      <td>Endangered</td>\n",
       "      <td>False</td>\n",
       "    </tr>\n",
       "    <tr>\n",
       "      <th>4</th>\n",
       "      <td>anatinus</td>\n",
       "      <td>Ornithorhynchidae</td>\n",
       "      <td>Platypus.</td>\n",
       "      <td>Australia, New South Wales, New Holland (= Syd...</td>\n",
       "      <td>Lower risk</td>\n",
       "      <td>False</td>\n",
       "    </tr>\n",
       "  </tbody>\n",
       "</table>\n",
       "</div>"
      ],
      "text/plain": [
       "         Species             Family                      Common_name  \\\n",
       "0      aculeatus     Tachyglossidae             Short-beaked Echidna   \n",
       "1  attenboroughi     Tachyglossidae  Sir Davids Long-beaked Echidna.   \n",
       "2        bartoni     Tachyglossidae      Eastern Long-beaked Echidna   \n",
       "3        bruijni     Tachyglossidae     Western Long-beaked Echidna.   \n",
       "4       anatinus  Ornithorhynchidae                        Platypus.   \n",
       "\n",
       "                                            Locality          Status  Extinct  \n",
       "0  Australia, New South Wales, New Holland (= Syd...      Lower risk    False  \n",
       "1  Indonesia, Prov. of Papua (= Irian Jaya), Cycl...  Check Appendix    False  \n",
       "2  Papua New Guinea, Albert Edward Range, Mount V...      Endangered    False  \n",
       "3  Indonesia, Prov. of Papua (= Irian Jaya), Voge...      Endangered    False  \n",
       "4  Australia, New South Wales, New Holland (= Syd...      Lower risk    False  "
      ]
     },
     "execution_count": 51,
     "metadata": {},
     "output_type": "execute_result"
    }
   ],
   "source": [
    "Df_copy.head()"
   ]
  },
  {
   "cell_type": "code",
   "execution_count": 52,
   "metadata": {},
   "outputs": [],
   "source": [
    "Df_copy.to_csv(\"..\\csv_files\\animals_project.csv\")"
   ]
  }
 ],
 "metadata": {
  "kernelspec": {
   "display_name": "Python 3",
   "language": "python",
   "name": "python3"
  },
  "language_info": {
   "codemirror_mode": {
    "name": "ipython",
    "version": 3
   },
   "file_extension": ".py",
   "mimetype": "text/x-python",
   "name": "python",
   "nbconvert_exporter": "python",
   "pygments_lexer": "ipython3",
   "version": "3.7.1"
  }
 },
 "nbformat": 4,
 "nbformat_minor": 4
}
