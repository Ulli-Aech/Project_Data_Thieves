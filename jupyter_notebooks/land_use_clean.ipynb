{
 "cells": [
  {
   "cell_type": "code",
   "execution_count": 1,
   "metadata": {},
   "outputs": [],
   "source": [
    "import pandas as pd\n",
    "import requests\n",
    "import json\n",
    "import getpass"
   ]
  },
  {
   "cell_type": "markdown",
   "metadata": {},
   "source": [
    "## Clean 'country_codes_OECD.csv' file obtained from WeatherBit"
   ]
  },
  {
   "cell_type": "markdown",
   "metadata": {},
   "source": [
    "Import 'country_codes_OECD.csv' file that contains all the country codes from WeatherBit"
   ]
  },
  {
   "cell_type": "code",
   "execution_count": 2,
   "metadata": {
    "scrolled": true
   },
   "outputs": [],
   "source": [
    "country_codes_OECD = pd.read_csv('..\\csv_files\\country_codes_OECD.csv', engine='python')"
   ]
  },
  {
   "cell_type": "code",
   "execution_count": 3,
   "metadata": {},
   "outputs": [
    {
     "data": {
      "text/html": [
       "<div>\n",
       "<style scoped>\n",
       "    .dataframe tbody tr th:only-of-type {\n",
       "        vertical-align: middle;\n",
       "    }\n",
       "\n",
       "    .dataframe tbody tr th {\n",
       "        vertical-align: top;\n",
       "    }\n",
       "\n",
       "    .dataframe thead th {\n",
       "        text-align: right;\n",
       "    }\n",
       "</style>\n",
       "<table border=\"1\" class=\"dataframe\">\n",
       "  <thead>\n",
       "    <tr style=\"text-align: right;\">\n",
       "      <th></th>\n",
       "      <th>code</th>\n",
       "      <th>country</th>\n",
       "      <th>Unnamed: 2</th>\n",
       "      <th>Unnamed: 3</th>\n",
       "    </tr>\n",
       "  </thead>\n",
       "  <tbody>\n",
       "    <tr>\n",
       "      <th>0</th>\n",
       "      <td>ABW</td>\n",
       "      <td>Aruba</td>\n",
       "      <td>NaN</td>\n",
       "      <td>NaN</td>\n",
       "    </tr>\n",
       "    <tr>\n",
       "      <th>1</th>\n",
       "      <td>AFG</td>\n",
       "      <td>Afghanistan</td>\n",
       "      <td>NaN</td>\n",
       "      <td>NaN</td>\n",
       "    </tr>\n",
       "    <tr>\n",
       "      <th>2</th>\n",
       "      <td>AFRI</td>\n",
       "      <td>Africa</td>\n",
       "      <td>NaN</td>\n",
       "      <td>NaN</td>\n",
       "    </tr>\n",
       "    <tr>\n",
       "      <th>3</th>\n",
       "      <td>AGO</td>\n",
       "      <td>Angola</td>\n",
       "      <td>NaN</td>\n",
       "      <td>NaN</td>\n",
       "    </tr>\n",
       "    <tr>\n",
       "      <th>4</th>\n",
       "      <td>AIA</td>\n",
       "      <td>Anguilla</td>\n",
       "      <td>NaN</td>\n",
       "      <td>NaN</td>\n",
       "    </tr>\n",
       "  </tbody>\n",
       "</table>\n",
       "</div>"
      ],
      "text/plain": [
       "   code      country  Unnamed: 2 Unnamed: 3\n",
       "0   ABW        Aruba         NaN        NaN\n",
       "1   AFG  Afghanistan         NaN        NaN\n",
       "2  AFRI       Africa         NaN        NaN\n",
       "3   AGO       Angola         NaN        NaN\n",
       "4   AIA     Anguilla         NaN        NaN"
      ]
     },
     "execution_count": 3,
     "metadata": {},
     "output_type": "execute_result"
    }
   ],
   "source": [
    "country_codes_OECD.head()"
   ]
  },
  {
   "cell_type": "markdown",
   "metadata": {},
   "source": [
    "Remove whitespaces from column names"
   ]
  },
  {
   "cell_type": "code",
   "execution_count": 4,
   "metadata": {},
   "outputs": [],
   "source": [
    "country_codes_OECD.columns = country_codes_OECD.columns.str.replace(' ','')"
   ]
  },
  {
   "cell_type": "markdown",
   "metadata": {},
   "source": [
    "Look at shape of the dataframe"
   ]
  },
  {
   "cell_type": "code",
   "execution_count": 5,
   "metadata": {},
   "outputs": [
    {
     "data": {
      "text/plain": [
       "(234, 4)"
      ]
     },
     "execution_count": 5,
     "metadata": {},
     "output_type": "execute_result"
    }
   ],
   "source": [
    "country_codes_OECD.shape"
   ]
  },
  {
   "cell_type": "markdown",
   "metadata": {},
   "source": [
    "Investigate null values"
   ]
  },
  {
   "cell_type": "code",
   "execution_count": 6,
   "metadata": {},
   "outputs": [
    {
     "data": {
      "text/plain": [
       "code           0\n",
       "country        0\n",
       "Unnamed:2    234\n",
       "Unnamed:3    233\n",
       "dtype: int64"
      ]
     },
     "execution_count": 6,
     "metadata": {},
     "output_type": "execute_result"
    }
   ],
   "source": [
    "country_codes_OECD.isna().sum()"
   ]
  },
  {
   "cell_type": "markdown",
   "metadata": {},
   "source": [
    "Investigate the solitary non-null value in 'Unnamed:3' column"
   ]
  },
  {
   "cell_type": "code",
   "execution_count": 7,
   "metadata": {},
   "outputs": [
    {
     "data": {
      "text/html": [
       "<div>\n",
       "<style scoped>\n",
       "    .dataframe tbody tr th:only-of-type {\n",
       "        vertical-align: middle;\n",
       "    }\n",
       "\n",
       "    .dataframe tbody tr th {\n",
       "        vertical-align: top;\n",
       "    }\n",
       "\n",
       "    .dataframe thead th {\n",
       "        text-align: right;\n",
       "    }\n",
       "</style>\n",
       "<table border=\"1\" class=\"dataframe\">\n",
       "  <thead>\n",
       "    <tr style=\"text-align: right;\">\n",
       "      <th></th>\n",
       "      <th>Unnamed:2</th>\n",
       "    </tr>\n",
       "    <tr>\n",
       "      <th>Unnamed:3</th>\n",
       "      <th></th>\n",
       "    </tr>\n",
       "  </thead>\n",
       "  <tbody>\n",
       "    <tr>\n",
       "      <th>Ukraine</th>\n",
       "      <td>0.0</td>\n",
       "    </tr>\n",
       "  </tbody>\n",
       "</table>\n",
       "</div>"
      ],
      "text/plain": [
       "           Unnamed:2\n",
       "Unnamed:3           \n",
       "Ukraine          0.0"
      ]
     },
     "execution_count": 7,
     "metadata": {},
     "output_type": "execute_result"
    }
   ],
   "source": [
    "country_codes_OECD.groupby(by=[\"Unnamed:3\"]).sum()"
   ]
  },
  {
   "cell_type": "markdown",
   "metadata": {},
   "source": [
    "Columns 'Unnamed:2' & 'Unnamed:3' can be dropped"
   ]
  },
  {
   "cell_type": "code",
   "execution_count": 8,
   "metadata": {},
   "outputs": [],
   "source": [
    "country_codes_OECD = country_codes_OECD.drop(['Unnamed:2'], axis=1)\n",
    "country_codes_OECD = country_codes_OECD.drop(['Unnamed:3'], axis=1)"
   ]
  },
  {
   "cell_type": "code",
   "execution_count": 9,
   "metadata": {},
   "outputs": [
    {
     "data": {
      "text/plain": [
       "0       ABW\n",
       "1       AFG\n",
       "2      AFRI\n",
       "3       AGO\n",
       "4       AIA\n",
       "       ... \n",
       "229     WSM\n",
       "230     YEM\n",
       "231     ZAF\n",
       "232     ZMB\n",
       "233     ZWE\n",
       "Name: code, Length: 234, dtype: object"
      ]
     },
     "execution_count": 9,
     "metadata": {},
     "output_type": "execute_result"
    }
   ],
   "source": [
    "country_codes_OECD['code']"
   ]
  },
  {
   "cell_type": "code",
   "execution_count": 10,
   "metadata": {},
   "outputs": [
    {
     "name": "stdout",
     "output_type": "stream",
     "text": [
      "['ABW', 'AFG', 'AFRI', 'AGO', 'AIA', 'ALB', 'AND', 'ANT', 'ARE', 'ARG', 'ASIA', 'ASM', 'ATG', 'AUS', 'AUT', 'BDI', 'BEL', 'BEN', 'BFA', 'BGD', 'BGR', 'BHR', 'BHS', 'BLZ', 'BMU', 'BOL', 'BRA', 'BRB', 'BRN', 'BTN', 'BWA', 'CAF', 'CAN', 'CCK', 'CHE', 'CHL', 'CHN', 'CIV', 'CMR', 'COD', 'COG', 'COK', 'COL', 'COM', 'CPV', 'CRI', 'CSFR', 'CSFR-CZE', 'CSFR-SVK', 'CUB', 'CYM', 'CYP', 'DEU', 'DJI', 'DMA', 'DNK', 'DOM', 'DZA', 'ECU', 'EGY', 'ERI', 'ESH', 'ESP', 'ETH', 'EURO', 'FIN', 'FJI', 'FLK', 'FRA', 'FSM', 'FYUG', 'FYUG-BIH', 'FYUG-HRV', 'FYUG-MKD', 'FYUG-SVN', 'FYUG-YUG', 'GAB', 'GBR', 'GHA', 'GIB', 'GIN', 'GMB', 'GNB', 'GNQ', 'GRC', 'GRD', 'GTM', 'GUM', 'GUY', 'HKG', 'HND', 'HTI', 'HUN', 'IDN', 'IND', 'IOT', 'IRL', 'IRN', 'IRQ', 'ISL', 'ISR', 'ITA', 'JAM', 'JOR', 'JPN', 'KEN', 'KHM', 'KIR', 'KNA', 'KOREA-NO', 'KOREA-NS', 'KOREA-SO', 'KWT', 'LAO', 'LBN', 'LBR', 'LBY', 'LCA', 'LIE', 'LKA', 'LSO', 'LUX', 'MAC', 'MAR', 'MCO', 'MDG', 'MDV', 'MEX', 'MHL', 'MLI', 'MLT', 'MMR', 'MNG', 'MNP', 'MOZ', 'MRT', 'MSR', 'MUS', 'MWI', 'MYS', 'NAM', 'NER', 'NFK', 'NGA', 'NIC', 'NIU', 'NLD', 'NOAM', 'NOR', 'NPL', 'NRU', 'NZL', 'OCEA', 'OMN', 'OTH', 'PAK', 'PAN', 'PCN', 'PER', 'PHL', 'PLW', 'PNG', 'POL', 'PRI', 'PRT', 'PRY', 'PSE', 'QAT', 'ROU', 'RWA', 'SAU', 'SCAC', 'SDN', 'SEN', 'SGP', 'SHN', 'SJM', 'SLB', 'SLE', 'SLV', 'SMR', 'SOM', 'STP', 'SUR', 'SWE', 'SWZ', 'SYC', 'SYR', 'TCA', 'TCD', 'TGO', 'THA', 'TKL', 'TLS', 'TMP', 'TON', 'TTO', 'TUN', 'TUR', 'TUV', 'TWN', 'TZA', 'UGA', 'UNK', 'URY', 'USA', 'USSR', 'USSR-ARM', 'USSR-AZE', 'USSR-BLR', 'USSR-EST', 'USSR-GEO', 'USSR-KAZ', 'USSR-KGZ', 'USSR-LTU', 'USSR-LVA', 'USSR-MDA', 'USSR-RUS', 'USSR-TJK', 'USSR-TKM', 'USSR-UKR', 'USSR-UZB', 'VAT', 'VCT', 'VEN', 'VGB', 'VIR', 'VNM', 'VUT', 'WSM', 'YEM', 'ZAF', 'ZMB', 'ZWE']\n"
     ]
    }
   ],
   "source": [
    "code_list = country_codes_OECD['code'].tolist()\n",
    "print(code_list)"
   ]
  },
  {
   "cell_type": "code",
   "execution_count": 11,
   "metadata": {},
   "outputs": [
    {
     "name": "stdout",
     "output_type": "stream",
     "text": [
      "AFRI\n",
      "ASIA\n",
      "CSFR\n",
      "CSFR-CZE\n",
      "CSFR-SVK\n",
      "EURO\n",
      "FYUG\n",
      "FYUG-BIH\n",
      "FYUG-HRV\n",
      "FYUG-MKD\n",
      "FYUG-SVN\n",
      "FYUG-YUG\n",
      "KOREA-NO\n",
      "KOREA-NS\n",
      "KOREA-SO\n",
      "NOAM\n",
      "OCEA\n",
      "SCAC\n",
      "USSR\n",
      "USSR-ARM\n",
      "USSR-AZE\n",
      "USSR-BLR\n",
      "USSR-EST\n",
      "USSR-GEO\n",
      "USSR-KAZ\n",
      "USSR-KGZ\n",
      "USSR-LTU\n",
      "USSR-LVA\n",
      "USSR-MDA\n",
      "USSR-RUS\n",
      "USSR-TJK\n",
      "USSR-TKM\n",
      "USSR-UKR\n",
      "USSR-UZB\n"
     ]
    }
   ],
   "source": [
    "for code in code_list:\n",
    "    if len(code) > 3:\n",
    "        print(code)"
   ]
  },
  {
   "cell_type": "markdown",
   "metadata": {},
   "source": [
    "Codes that are exactly 4 characters long are continents or former countries, so they can be dropped"
   ]
  },
  {
   "cell_type": "code",
   "execution_count": 12,
   "metadata": {},
   "outputs": [],
   "source": [
    "four_codes = country_codes_OECD.loc[country_codes_OECD['code'].str.len() == 4].index\n",
    "country_codes_OECD = country_codes_OECD.drop(four_codes)"
   ]
  },
  {
   "cell_type": "markdown",
   "metadata": {},
   "source": [
    "'KOREA-SO' can be deleted, 'KOREA-NO' can be changed to 'PRK', 'KOREA-NS' can be changed to 'KOR'                                                              "
   ]
  },
  {
   "cell_type": "code",
   "execution_count": 13,
   "metadata": {},
   "outputs": [],
   "source": [
    "row_drop = country_codes_OECD.loc[country_codes_OECD['code'] == 'KOREA-SO'].index\n",
    "country_codes_OECD = country_codes_OECD.drop(row_drop)\n",
    "country_codes_OECD = country_codes_OECD.replace(to_replace={'KOREA-NO': 'PRK', 'KOREA-NS': 'KOR'})"
   ]
  },
  {
   "cell_type": "markdown",
   "metadata": {},
   "source": [
    "Reset index"
   ]
  },
  {
   "cell_type": "code",
   "execution_count": 14,
   "metadata": {},
   "outputs": [],
   "source": [
    "country_codes_OECD.reset_index(drop=True, inplace=True)"
   ]
  },
  {
   "cell_type": "markdown",
   "metadata": {},
   "source": [
    "All remaining country codes can have their prefix removed"
   ]
  },
  {
   "cell_type": "code",
   "execution_count": 15,
   "metadata": {},
   "outputs": [
    {
     "data": {
      "text/plain": [
       "Int64Index([ 44,  45,  66,  67,  68,  69,  70, 197, 198, 199, 200, 201, 202,\n",
       "            203, 204, 205, 206, 207, 208, 209, 210, 211],\n",
       "           dtype='int64')"
      ]
     },
     "execution_count": 15,
     "metadata": {},
     "output_type": "execute_result"
    }
   ],
   "source": [
    "prefix_codes = country_codes_OECD.loc[country_codes_OECD['code'].str.len() == 8].index\n",
    "prefix_codes"
   ]
  },
  {
   "cell_type": "code",
   "execution_count": 16,
   "metadata": {},
   "outputs": [],
   "source": [
    "country_codes_OECD[\"code\"].iloc[prefix_codes] = country_codes_OECD[\"code\"].iloc[prefix_codes].str.slice(start=5)"
   ]
  },
  {
   "cell_type": "code",
   "execution_count": 17,
   "metadata": {},
   "outputs": [
    {
     "data": {
      "text/plain": [
       "['ABW',\n",
       " 'AFG',\n",
       " 'AGO',\n",
       " 'AIA',\n",
       " 'ALB',\n",
       " 'AND',\n",
       " 'ANT',\n",
       " 'ARE',\n",
       " 'ARG',\n",
       " 'ASM',\n",
       " 'ATG',\n",
       " 'AUS',\n",
       " 'AUT',\n",
       " 'BDI',\n",
       " 'BEL',\n",
       " 'BEN',\n",
       " 'BFA',\n",
       " 'BGD',\n",
       " 'BGR',\n",
       " 'BHR',\n",
       " 'BHS',\n",
       " 'BLZ',\n",
       " 'BMU',\n",
       " 'BOL',\n",
       " 'BRA',\n",
       " 'BRB',\n",
       " 'BRN',\n",
       " 'BTN',\n",
       " 'BWA',\n",
       " 'CAF',\n",
       " 'CAN',\n",
       " 'CCK',\n",
       " 'CHE',\n",
       " 'CHL',\n",
       " 'CHN',\n",
       " 'CIV',\n",
       " 'CMR',\n",
       " 'COD',\n",
       " 'COG',\n",
       " 'COK',\n",
       " 'COL',\n",
       " 'COM',\n",
       " 'CPV',\n",
       " 'CRI',\n",
       " 'CZE',\n",
       " 'SVK',\n",
       " 'CUB',\n",
       " 'CYM',\n",
       " 'CYP',\n",
       " 'DEU',\n",
       " 'DJI',\n",
       " 'DMA',\n",
       " 'DNK',\n",
       " 'DOM',\n",
       " 'DZA',\n",
       " 'ECU',\n",
       " 'EGY',\n",
       " 'ERI',\n",
       " 'ESH',\n",
       " 'ESP',\n",
       " 'ETH',\n",
       " 'FIN',\n",
       " 'FJI',\n",
       " 'FLK',\n",
       " 'FRA',\n",
       " 'FSM',\n",
       " 'BIH',\n",
       " 'HRV',\n",
       " 'MKD',\n",
       " 'SVN',\n",
       " 'YUG',\n",
       " 'GAB',\n",
       " 'GBR',\n",
       " 'GHA',\n",
       " 'GIB',\n",
       " 'GIN',\n",
       " 'GMB',\n",
       " 'GNB',\n",
       " 'GNQ',\n",
       " 'GRC',\n",
       " 'GRD',\n",
       " 'GTM',\n",
       " 'GUM',\n",
       " 'GUY',\n",
       " 'HKG',\n",
       " 'HND',\n",
       " 'HTI',\n",
       " 'HUN',\n",
       " 'IDN',\n",
       " 'IND',\n",
       " 'IOT',\n",
       " 'IRL',\n",
       " 'IRN',\n",
       " 'IRQ',\n",
       " 'ISL',\n",
       " 'ISR',\n",
       " 'ITA',\n",
       " 'JAM',\n",
       " 'JOR',\n",
       " 'JPN',\n",
       " 'KEN',\n",
       " 'KHM',\n",
       " 'KIR',\n",
       " 'KNA',\n",
       " 'PRK',\n",
       " 'KOR',\n",
       " 'KWT',\n",
       " 'LAO',\n",
       " 'LBN',\n",
       " 'LBR',\n",
       " 'LBY',\n",
       " 'LCA',\n",
       " 'LIE',\n",
       " 'LKA',\n",
       " 'LSO',\n",
       " 'LUX',\n",
       " 'MAC',\n",
       " 'MAR',\n",
       " 'MCO',\n",
       " 'MDG',\n",
       " 'MDV',\n",
       " 'MEX',\n",
       " 'MHL',\n",
       " 'MLI',\n",
       " 'MLT',\n",
       " 'MMR',\n",
       " 'MNG',\n",
       " 'MNP',\n",
       " 'MOZ',\n",
       " 'MRT',\n",
       " 'MSR',\n",
       " 'MUS',\n",
       " 'MWI',\n",
       " 'MYS',\n",
       " 'NAM',\n",
       " 'NER',\n",
       " 'NFK',\n",
       " 'NGA',\n",
       " 'NIC',\n",
       " 'NIU',\n",
       " 'NLD',\n",
       " 'NOR',\n",
       " 'NPL',\n",
       " 'NRU',\n",
       " 'NZL',\n",
       " 'OMN',\n",
       " 'OTH',\n",
       " 'PAK',\n",
       " 'PAN',\n",
       " 'PCN',\n",
       " 'PER',\n",
       " 'PHL',\n",
       " 'PLW',\n",
       " 'PNG',\n",
       " 'POL',\n",
       " 'PRI',\n",
       " 'PRT',\n",
       " 'PRY',\n",
       " 'PSE',\n",
       " 'QAT',\n",
       " 'ROU',\n",
       " 'RWA',\n",
       " 'SAU',\n",
       " 'SDN',\n",
       " 'SEN',\n",
       " 'SGP',\n",
       " 'SHN',\n",
       " 'SJM',\n",
       " 'SLB',\n",
       " 'SLE',\n",
       " 'SLV',\n",
       " 'SMR',\n",
       " 'SOM',\n",
       " 'STP',\n",
       " 'SUR',\n",
       " 'SWE',\n",
       " 'SWZ',\n",
       " 'SYC',\n",
       " 'SYR',\n",
       " 'TCA',\n",
       " 'TCD',\n",
       " 'TGO',\n",
       " 'THA',\n",
       " 'TKL',\n",
       " 'TLS',\n",
       " 'TMP',\n",
       " 'TON',\n",
       " 'TTO',\n",
       " 'TUN',\n",
       " 'TUR',\n",
       " 'TUV',\n",
       " 'TWN',\n",
       " 'TZA',\n",
       " 'UGA',\n",
       " 'UNK',\n",
       " 'URY',\n",
       " 'USA',\n",
       " 'ARM',\n",
       " 'AZE',\n",
       " 'BLR',\n",
       " 'EST',\n",
       " 'GEO',\n",
       " 'KAZ',\n",
       " 'KGZ',\n",
       " 'LTU',\n",
       " 'LVA',\n",
       " 'MDA',\n",
       " 'RUS',\n",
       " 'TJK',\n",
       " 'TKM',\n",
       " 'UKR',\n",
       " 'UZB',\n",
       " 'VAT',\n",
       " 'VCT',\n",
       " 'VEN',\n",
       " 'VGB',\n",
       " 'VIR',\n",
       " 'VNM',\n",
       " 'VUT',\n",
       " 'WSM',\n",
       " 'YEM',\n",
       " 'ZAF',\n",
       " 'ZMB',\n",
       " 'ZWE']"
      ]
     },
     "execution_count": 17,
     "metadata": {},
     "output_type": "execute_result"
    }
   ],
   "source": [
    "country_codes_OECD[\"code\"].tolist()"
   ]
  },
  {
   "cell_type": "markdown",
   "metadata": {},
   "source": [
    "Export data to CSV file"
   ]
  },
  {
   "cell_type": "code",
   "execution_count": 18,
   "metadata": {},
   "outputs": [],
   "source": [
    "country_codes_OECD = country_codes_OECD.to_csv('..\\csv_files\\country_codes_final.csv', index=False)"
   ]
  },
  {
   "cell_type": "markdown",
   "metadata": {},
   "source": [
    "## Import and clean 'protected_areas.csv' file"
   ]
  },
  {
   "cell_type": "code",
   "execution_count": 22,
   "metadata": {},
   "outputs": [],
   "source": [
    "protected_areas = pd.read_csv('..\\csv_files\\protected_areas_raw.csv')"
   ]
  },
  {
   "cell_type": "code",
   "execution_count": 23,
   "metadata": {},
   "outputs": [
    {
     "data": {
      "text/html": [
       "<div>\n",
       "<style scoped>\n",
       "    .dataframe tbody tr th:only-of-type {\n",
       "        vertical-align: middle;\n",
       "    }\n",
       "\n",
       "    .dataframe tbody tr th {\n",
       "        vertical-align: top;\n",
       "    }\n",
       "\n",
       "    .dataframe thead th {\n",
       "        text-align: right;\n",
       "    }\n",
       "</style>\n",
       "<table border=\"1\" class=\"dataframe\">\n",
       "  <thead>\n",
       "    <tr style=\"text-align: right;\">\n",
       "      <th></th>\n",
       "      <th>LOCATION</th>\n",
       "      <th>INDICATOR</th>\n",
       "      <th>SUBJECT</th>\n",
       "      <th>MEASURE</th>\n",
       "      <th>FREQUENCY</th>\n",
       "      <th>TIME</th>\n",
       "      <th>Value</th>\n",
       "      <th>Flag Codes</th>\n",
       "    </tr>\n",
       "  </thead>\n",
       "  <tbody>\n",
       "    <tr>\n",
       "      <th>0</th>\n",
       "      <td>AUS</td>\n",
       "      <td>PROTECTEDAREA</td>\n",
       "      <td>TERREST</td>\n",
       "      <td>PC_LANDAREA</td>\n",
       "      <td>A</td>\n",
       "      <td>2015</td>\n",
       "      <td>18.14</td>\n",
       "      <td>NaN</td>\n",
       "    </tr>\n",
       "    <tr>\n",
       "      <th>1</th>\n",
       "      <td>AUS</td>\n",
       "      <td>PROTECTEDAREA</td>\n",
       "      <td>TERREST</td>\n",
       "      <td>PC_LANDAREA</td>\n",
       "      <td>A</td>\n",
       "      <td>2016</td>\n",
       "      <td>18.85</td>\n",
       "      <td>NaN</td>\n",
       "    </tr>\n",
       "    <tr>\n",
       "      <th>2</th>\n",
       "      <td>AUS</td>\n",
       "      <td>PROTECTEDAREA</td>\n",
       "      <td>TERREST</td>\n",
       "      <td>PC_LANDAREA</td>\n",
       "      <td>A</td>\n",
       "      <td>2017</td>\n",
       "      <td>19.10</td>\n",
       "      <td>NaN</td>\n",
       "    </tr>\n",
       "    <tr>\n",
       "      <th>3</th>\n",
       "      <td>AUS</td>\n",
       "      <td>PROTECTEDAREA</td>\n",
       "      <td>TERREST</td>\n",
       "      <td>PC_LANDAREA</td>\n",
       "      <td>A</td>\n",
       "      <td>2018</td>\n",
       "      <td>19.20</td>\n",
       "      <td>NaN</td>\n",
       "    </tr>\n",
       "    <tr>\n",
       "      <th>4</th>\n",
       "      <td>AUS</td>\n",
       "      <td>PROTECTEDAREA</td>\n",
       "      <td>TERREST</td>\n",
       "      <td>PC_LANDAREA</td>\n",
       "      <td>A</td>\n",
       "      <td>2019</td>\n",
       "      <td>19.20</td>\n",
       "      <td>NaN</td>\n",
       "    </tr>\n",
       "  </tbody>\n",
       "</table>\n",
       "</div>"
      ],
      "text/plain": [
       "  LOCATION      INDICATOR  SUBJECT      MEASURE FREQUENCY  TIME  Value  \\\n",
       "0      AUS  PROTECTEDAREA  TERREST  PC_LANDAREA         A  2015  18.14   \n",
       "1      AUS  PROTECTEDAREA  TERREST  PC_LANDAREA         A  2016  18.85   \n",
       "2      AUS  PROTECTEDAREA  TERREST  PC_LANDAREA         A  2017  19.10   \n",
       "3      AUS  PROTECTEDAREA  TERREST  PC_LANDAREA         A  2018  19.20   \n",
       "4      AUS  PROTECTEDAREA  TERREST  PC_LANDAREA         A  2019  19.20   \n",
       "\n",
       "   Flag Codes  \n",
       "0         NaN  \n",
       "1         NaN  \n",
       "2         NaN  \n",
       "3         NaN  \n",
       "4         NaN  "
      ]
     },
     "execution_count": 23,
     "metadata": {},
     "output_type": "execute_result"
    }
   ],
   "source": [
    "protected_areas.head()"
   ]
  },
  {
   "cell_type": "markdown",
   "metadata": {},
   "source": [
    "Investigate null values"
   ]
  },
  {
   "cell_type": "code",
   "execution_count": 24,
   "metadata": {},
   "outputs": [
    {
     "data": {
      "text/plain": [
       "LOCATION        0\n",
       "INDICATOR       0\n",
       "SUBJECT         0\n",
       "MEASURE         0\n",
       "FREQUENCY       0\n",
       "TIME            0\n",
       "Value           0\n",
       "Flag Codes    438\n",
       "dtype: int64"
      ]
     },
     "execution_count": 24,
     "metadata": {},
     "output_type": "execute_result"
    }
   ],
   "source": [
    "protected_areas.isna().sum()"
   ]
  },
  {
   "cell_type": "markdown",
   "metadata": {},
   "source": [
    "Delete 'Flag Codes' column"
   ]
  },
  {
   "cell_type": "code",
   "execution_count": 25,
   "metadata": {},
   "outputs": [],
   "source": [
    "protected_areas.drop('Flag Codes', axis=1, inplace=True)"
   ]
  },
  {
   "cell_type": "markdown",
   "metadata": {},
   "source": [
    "Check for columns that have only one unique value, and drop columns that do"
   ]
  },
  {
   "cell_type": "code",
   "execution_count": 26,
   "metadata": {},
   "outputs": [],
   "source": [
    "for col in protected_areas.columns:\n",
    "    if len(protected_areas[col].unique()) == 1:\n",
    "        protected_areas.drop(col, axis=1, inplace=True)"
   ]
  },
  {
   "cell_type": "code",
   "execution_count": 27,
   "metadata": {},
   "outputs": [
    {
     "data": {
      "text/html": [
       "<div>\n",
       "<style scoped>\n",
       "    .dataframe tbody tr th:only-of-type {\n",
       "        vertical-align: middle;\n",
       "    }\n",
       "\n",
       "    .dataframe tbody tr th {\n",
       "        vertical-align: top;\n",
       "    }\n",
       "\n",
       "    .dataframe thead th {\n",
       "        text-align: right;\n",
       "    }\n",
       "</style>\n",
       "<table border=\"1\" class=\"dataframe\">\n",
       "  <thead>\n",
       "    <tr style=\"text-align: right;\">\n",
       "      <th></th>\n",
       "      <th>LOCATION</th>\n",
       "      <th>TIME</th>\n",
       "      <th>Value</th>\n",
       "    </tr>\n",
       "  </thead>\n",
       "  <tbody>\n",
       "    <tr>\n",
       "      <th>0</th>\n",
       "      <td>AUS</td>\n",
       "      <td>2015</td>\n",
       "      <td>18.14</td>\n",
       "    </tr>\n",
       "    <tr>\n",
       "      <th>1</th>\n",
       "      <td>AUS</td>\n",
       "      <td>2016</td>\n",
       "      <td>18.85</td>\n",
       "    </tr>\n",
       "    <tr>\n",
       "      <th>2</th>\n",
       "      <td>AUS</td>\n",
       "      <td>2017</td>\n",
       "      <td>19.10</td>\n",
       "    </tr>\n",
       "    <tr>\n",
       "      <th>3</th>\n",
       "      <td>AUS</td>\n",
       "      <td>2018</td>\n",
       "      <td>19.20</td>\n",
       "    </tr>\n",
       "    <tr>\n",
       "      <th>4</th>\n",
       "      <td>AUS</td>\n",
       "      <td>2019</td>\n",
       "      <td>19.20</td>\n",
       "    </tr>\n",
       "    <tr>\n",
       "      <th>...</th>\n",
       "      <td>...</td>\n",
       "      <td>...</td>\n",
       "      <td>...</td>\n",
       "    </tr>\n",
       "    <tr>\n",
       "      <th>433</th>\n",
       "      <td>URY</td>\n",
       "      <td>2016</td>\n",
       "      <td>3.48</td>\n",
       "    </tr>\n",
       "    <tr>\n",
       "      <th>434</th>\n",
       "      <td>URY</td>\n",
       "      <td>2017</td>\n",
       "      <td>3.48</td>\n",
       "    </tr>\n",
       "    <tr>\n",
       "      <th>435</th>\n",
       "      <td>URY</td>\n",
       "      <td>2018</td>\n",
       "      <td>3.48</td>\n",
       "    </tr>\n",
       "    <tr>\n",
       "      <th>436</th>\n",
       "      <td>URY</td>\n",
       "      <td>2019</td>\n",
       "      <td>3.62</td>\n",
       "    </tr>\n",
       "    <tr>\n",
       "      <th>437</th>\n",
       "      <td>URY</td>\n",
       "      <td>2020</td>\n",
       "      <td>3.62</td>\n",
       "    </tr>\n",
       "  </tbody>\n",
       "</table>\n",
       "<p>438 rows × 3 columns</p>\n",
       "</div>"
      ],
      "text/plain": [
       "    LOCATION  TIME  Value\n",
       "0        AUS  2015  18.14\n",
       "1        AUS  2016  18.85\n",
       "2        AUS  2017  19.10\n",
       "3        AUS  2018  19.20\n",
       "4        AUS  2019  19.20\n",
       "..       ...   ...    ...\n",
       "433      URY  2016   3.48\n",
       "434      URY  2017   3.48\n",
       "435      URY  2018   3.48\n",
       "436      URY  2019   3.62\n",
       "437      URY  2020   3.62\n",
       "\n",
       "[438 rows x 3 columns]"
      ]
     },
     "execution_count": 27,
     "metadata": {},
     "output_type": "execute_result"
    }
   ],
   "source": [
    "protected_areas"
   ]
  },
  {
   "cell_type": "markdown",
   "metadata": {},
   "source": [
    "Use pivot function to create new columns for each year in the dataframe"
   ]
  },
  {
   "cell_type": "code",
   "execution_count": 28,
   "metadata": {},
   "outputs": [
    {
     "data": {
      "text/html": [
       "<div>\n",
       "<style scoped>\n",
       "    .dataframe tbody tr th:only-of-type {\n",
       "        vertical-align: middle;\n",
       "    }\n",
       "\n",
       "    .dataframe tbody tr th {\n",
       "        vertical-align: top;\n",
       "    }\n",
       "\n",
       "    .dataframe thead tr th {\n",
       "        text-align: left;\n",
       "    }\n",
       "\n",
       "    .dataframe thead tr:last-of-type th {\n",
       "        text-align: right;\n",
       "    }\n",
       "</style>\n",
       "<table border=\"1\" class=\"dataframe\">\n",
       "  <thead>\n",
       "    <tr>\n",
       "      <th></th>\n",
       "      <th colspan=\"6\" halign=\"left\">Value</th>\n",
       "    </tr>\n",
       "    <tr>\n",
       "      <th>TIME</th>\n",
       "      <th>2015</th>\n",
       "      <th>2016</th>\n",
       "      <th>2017</th>\n",
       "      <th>2018</th>\n",
       "      <th>2019</th>\n",
       "      <th>2020</th>\n",
       "    </tr>\n",
       "    <tr>\n",
       "      <th>LOCATION</th>\n",
       "      <th></th>\n",
       "      <th></th>\n",
       "      <th></th>\n",
       "      <th></th>\n",
       "      <th></th>\n",
       "      <th></th>\n",
       "    </tr>\n",
       "  </thead>\n",
       "  <tbody>\n",
       "    <tr>\n",
       "      <th>ARG</th>\n",
       "      <td>8.27</td>\n",
       "      <td>8.29</td>\n",
       "      <td>8.33</td>\n",
       "      <td>8.39</td>\n",
       "      <td>8.39</td>\n",
       "      <td>8.39</td>\n",
       "    </tr>\n",
       "    <tr>\n",
       "      <th>ARM</th>\n",
       "      <td>24.11</td>\n",
       "      <td>24.11</td>\n",
       "      <td>24.11</td>\n",
       "      <td>24.11</td>\n",
       "      <td>24.11</td>\n",
       "      <td>24.11</td>\n",
       "    </tr>\n",
       "    <tr>\n",
       "      <th>AUS</th>\n",
       "      <td>18.14</td>\n",
       "      <td>18.85</td>\n",
       "      <td>19.10</td>\n",
       "      <td>19.20</td>\n",
       "      <td>19.20</td>\n",
       "      <td>19.20</td>\n",
       "    </tr>\n",
       "    <tr>\n",
       "      <th>AUT</th>\n",
       "      <td>27.97</td>\n",
       "      <td>28.45</td>\n",
       "      <td>28.45</td>\n",
       "      <td>28.54</td>\n",
       "      <td>28.54</td>\n",
       "      <td>28.54</td>\n",
       "    </tr>\n",
       "    <tr>\n",
       "      <th>AZE</th>\n",
       "      <td>5.63</td>\n",
       "      <td>5.63</td>\n",
       "      <td>5.63</td>\n",
       "      <td>5.93</td>\n",
       "      <td>5.93</td>\n",
       "      <td>5.93</td>\n",
       "    </tr>\n",
       "  </tbody>\n",
       "</table>\n",
       "</div>"
      ],
      "text/plain": [
       "          Value                                   \n",
       "TIME       2015   2016   2017   2018   2019   2020\n",
       "LOCATION                                          \n",
       "ARG        8.27   8.29   8.33   8.39   8.39   8.39\n",
       "ARM       24.11  24.11  24.11  24.11  24.11  24.11\n",
       "AUS       18.14  18.85  19.10  19.20  19.20  19.20\n",
       "AUT       27.97  28.45  28.45  28.54  28.54  28.54\n",
       "AZE        5.63   5.63   5.63   5.93   5.93   5.93"
      ]
     },
     "execution_count": 28,
     "metadata": {},
     "output_type": "execute_result"
    }
   ],
   "source": [
    "protected_areas = protected_areas.pivot(index='LOCATION', columns='TIME')\n",
    "protected_areas.head()"
   ]
  },
  {
   "cell_type": "markdown",
   "metadata": {},
   "source": [
    "Reintroduce index, moving country codes into the dataframe"
   ]
  },
  {
   "cell_type": "code",
   "execution_count": 29,
   "metadata": {},
   "outputs": [],
   "source": [
    "protected_areas.reset_index(inplace=True)"
   ]
  },
  {
   "cell_type": "code",
   "execution_count": 30,
   "metadata": {},
   "outputs": [
    {
     "data": {
      "text/html": [
       "<div>\n",
       "<style scoped>\n",
       "    .dataframe tbody tr th:only-of-type {\n",
       "        vertical-align: middle;\n",
       "    }\n",
       "\n",
       "    .dataframe tbody tr th {\n",
       "        vertical-align: top;\n",
       "    }\n",
       "\n",
       "    .dataframe thead tr th {\n",
       "        text-align: left;\n",
       "    }\n",
       "</style>\n",
       "<table border=\"1\" class=\"dataframe\">\n",
       "  <thead>\n",
       "    <tr>\n",
       "      <th></th>\n",
       "      <th>LOCATION</th>\n",
       "      <th colspan=\"6\" halign=\"left\">Value</th>\n",
       "    </tr>\n",
       "    <tr>\n",
       "      <th>TIME</th>\n",
       "      <th></th>\n",
       "      <th>2015</th>\n",
       "      <th>2016</th>\n",
       "      <th>2017</th>\n",
       "      <th>2018</th>\n",
       "      <th>2019</th>\n",
       "      <th>2020</th>\n",
       "    </tr>\n",
       "  </thead>\n",
       "  <tbody>\n",
       "    <tr>\n",
       "      <th>0</th>\n",
       "      <td>ARG</td>\n",
       "      <td>8.27</td>\n",
       "      <td>8.29</td>\n",
       "      <td>8.33</td>\n",
       "      <td>8.39</td>\n",
       "      <td>8.39</td>\n",
       "      <td>8.39</td>\n",
       "    </tr>\n",
       "    <tr>\n",
       "      <th>1</th>\n",
       "      <td>ARM</td>\n",
       "      <td>24.11</td>\n",
       "      <td>24.11</td>\n",
       "      <td>24.11</td>\n",
       "      <td>24.11</td>\n",
       "      <td>24.11</td>\n",
       "      <td>24.11</td>\n",
       "    </tr>\n",
       "    <tr>\n",
       "      <th>2</th>\n",
       "      <td>AUS</td>\n",
       "      <td>18.14</td>\n",
       "      <td>18.85</td>\n",
       "      <td>19.10</td>\n",
       "      <td>19.20</td>\n",
       "      <td>19.20</td>\n",
       "      <td>19.20</td>\n",
       "    </tr>\n",
       "    <tr>\n",
       "      <th>3</th>\n",
       "      <td>AUT</td>\n",
       "      <td>27.97</td>\n",
       "      <td>28.45</td>\n",
       "      <td>28.45</td>\n",
       "      <td>28.54</td>\n",
       "      <td>28.54</td>\n",
       "      <td>28.54</td>\n",
       "    </tr>\n",
       "    <tr>\n",
       "      <th>4</th>\n",
       "      <td>AZE</td>\n",
       "      <td>5.63</td>\n",
       "      <td>5.63</td>\n",
       "      <td>5.63</td>\n",
       "      <td>5.93</td>\n",
       "      <td>5.93</td>\n",
       "      <td>5.93</td>\n",
       "    </tr>\n",
       "  </tbody>\n",
       "</table>\n",
       "</div>"
      ],
      "text/plain": [
       "     LOCATION  Value                                   \n",
       "TIME            2015   2016   2017   2018   2019   2020\n",
       "0         ARG   8.27   8.29   8.33   8.39   8.39   8.39\n",
       "1         ARM  24.11  24.11  24.11  24.11  24.11  24.11\n",
       "2         AUS  18.14  18.85  19.10  19.20  19.20  19.20\n",
       "3         AUT  27.97  28.45  28.45  28.54  28.54  28.54\n",
       "4         AZE   5.63   5.63   5.63   5.93   5.93   5.93"
      ]
     },
     "execution_count": 30,
     "metadata": {},
     "output_type": "execute_result"
    }
   ],
   "source": [
    "protected_areas.head()"
   ]
  },
  {
   "cell_type": "code",
   "execution_count": 31,
   "metadata": {},
   "outputs": [
    {
     "data": {
      "text/plain": [
       "MultiIndex([('LOCATION',   ''),\n",
       "            (   'Value', 2015),\n",
       "            (   'Value', 2016),\n",
       "            (   'Value', 2017),\n",
       "            (   'Value', 2018),\n",
       "            (   'Value', 2019),\n",
       "            (   'Value', 2020)],\n",
       "           names=[None, 'TIME'])"
      ]
     },
     "execution_count": 31,
     "metadata": {},
     "output_type": "execute_result"
    }
   ],
   "source": [
    "protected_areas.columns"
   ]
  },
  {
   "cell_type": "markdown",
   "metadata": {},
   "source": [
    "Remove multiindex"
   ]
  },
  {
   "cell_type": "code",
   "execution_count": 32,
   "metadata": {},
   "outputs": [
    {
     "data": {
      "text/plain": [
       "[('LOCATION', ''),\n",
       " ('Value', 2015),\n",
       " ('Value', 2016),\n",
       " ('Value', 2017),\n",
       " ('Value', 2018),\n",
       " ('Value', 2019),\n",
       " ('Value', 2020)]"
      ]
     },
     "execution_count": 32,
     "metadata": {},
     "output_type": "execute_result"
    }
   ],
   "source": [
    "[x for x in protected_areas.columns]"
   ]
  },
  {
   "cell_type": "code",
   "execution_count": 33,
   "metadata": {},
   "outputs": [
    {
     "data": {
      "text/plain": [
       "['', 2015, 2016, 2017, 2018, 2019, 2020]"
      ]
     },
     "execution_count": 33,
     "metadata": {},
     "output_type": "execute_result"
    }
   ],
   "source": [
    "[x[1] for x in protected_areas.columns]"
   ]
  },
  {
   "cell_type": "code",
   "execution_count": 34,
   "metadata": {},
   "outputs": [],
   "source": [
    "protected_areas.columns = [x[1] for x in protected_areas.columns]"
   ]
  },
  {
   "cell_type": "markdown",
   "metadata": {},
   "source": [
    "Rename column containing country codes"
   ]
  },
  {
   "cell_type": "code",
   "execution_count": 35,
   "metadata": {},
   "outputs": [],
   "source": [
    "protected_areas.rename(columns={ protected_areas.columns[0]: \"country_code\" }, inplace = True)"
   ]
  },
  {
   "cell_type": "code",
   "execution_count": 36,
   "metadata": {},
   "outputs": [
    {
     "data": {
      "text/html": [
       "<div>\n",
       "<style scoped>\n",
       "    .dataframe tbody tr th:only-of-type {\n",
       "        vertical-align: middle;\n",
       "    }\n",
       "\n",
       "    .dataframe tbody tr th {\n",
       "        vertical-align: top;\n",
       "    }\n",
       "\n",
       "    .dataframe thead th {\n",
       "        text-align: right;\n",
       "    }\n",
       "</style>\n",
       "<table border=\"1\" class=\"dataframe\">\n",
       "  <thead>\n",
       "    <tr style=\"text-align: right;\">\n",
       "      <th></th>\n",
       "      <th>country_code</th>\n",
       "      <th>2015</th>\n",
       "      <th>2016</th>\n",
       "      <th>2017</th>\n",
       "      <th>2018</th>\n",
       "      <th>2019</th>\n",
       "      <th>2020</th>\n",
       "    </tr>\n",
       "  </thead>\n",
       "  <tbody>\n",
       "    <tr>\n",
       "      <th>0</th>\n",
       "      <td>ARG</td>\n",
       "      <td>8.27</td>\n",
       "      <td>8.29</td>\n",
       "      <td>8.33</td>\n",
       "      <td>8.39</td>\n",
       "      <td>8.39</td>\n",
       "      <td>8.39</td>\n",
       "    </tr>\n",
       "    <tr>\n",
       "      <th>1</th>\n",
       "      <td>ARM</td>\n",
       "      <td>24.11</td>\n",
       "      <td>24.11</td>\n",
       "      <td>24.11</td>\n",
       "      <td>24.11</td>\n",
       "      <td>24.11</td>\n",
       "      <td>24.11</td>\n",
       "    </tr>\n",
       "    <tr>\n",
       "      <th>2</th>\n",
       "      <td>AUS</td>\n",
       "      <td>18.14</td>\n",
       "      <td>18.85</td>\n",
       "      <td>19.10</td>\n",
       "      <td>19.20</td>\n",
       "      <td>19.20</td>\n",
       "      <td>19.20</td>\n",
       "    </tr>\n",
       "    <tr>\n",
       "      <th>3</th>\n",
       "      <td>AUT</td>\n",
       "      <td>27.97</td>\n",
       "      <td>28.45</td>\n",
       "      <td>28.45</td>\n",
       "      <td>28.54</td>\n",
       "      <td>28.54</td>\n",
       "      <td>28.54</td>\n",
       "    </tr>\n",
       "    <tr>\n",
       "      <th>4</th>\n",
       "      <td>AZE</td>\n",
       "      <td>5.63</td>\n",
       "      <td>5.63</td>\n",
       "      <td>5.63</td>\n",
       "      <td>5.93</td>\n",
       "      <td>5.93</td>\n",
       "      <td>5.93</td>\n",
       "    </tr>\n",
       "  </tbody>\n",
       "</table>\n",
       "</div>"
      ],
      "text/plain": [
       "  country_code   2015   2016   2017   2018   2019   2020\n",
       "0          ARG   8.27   8.29   8.33   8.39   8.39   8.39\n",
       "1          ARM  24.11  24.11  24.11  24.11  24.11  24.11\n",
       "2          AUS  18.14  18.85  19.10  19.20  19.20  19.20\n",
       "3          AUT  27.97  28.45  28.45  28.54  28.54  28.54\n",
       "4          AZE   5.63   5.63   5.63   5.93   5.93   5.93"
      ]
     },
     "execution_count": 36,
     "metadata": {},
     "output_type": "execute_result"
    }
   ],
   "source": [
    "protected_areas.head()"
   ]
  },
  {
   "cell_type": "code",
   "execution_count": 37,
   "metadata": {},
   "outputs": [],
   "source": [
    "protected_areas = protected_areas.to_csv('..\\csv_files\\protected_areas.csv', index=False)"
   ]
  },
  {
   "cell_type": "code",
   "execution_count": null,
   "metadata": {},
   "outputs": [],
   "source": []
  }
 ],
 "metadata": {
  "kernelspec": {
   "display_name": "Python 3",
   "language": "python",
   "name": "python3"
  },
  "language_info": {
   "codemirror_mode": {
    "name": "ipython",
    "version": 3
   },
   "file_extension": ".py",
   "mimetype": "text/x-python",
   "name": "python",
   "nbconvert_exporter": "python",
   "pygments_lexer": "ipython3",
   "version": "3.7.1"
  }
 },
 "nbformat": 4,
 "nbformat_minor": 4
}
